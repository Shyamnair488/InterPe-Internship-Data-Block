{
 "cells": [
  {
   "attachments": {},
   "cell_type": "markdown",
   "metadata": {},
   "source": [
    "# **Day 2**"
   ]
  },
  {
   "cell_type": "code",
   "execution_count": 1,
   "metadata": {},
   "outputs": [
    {
     "name": "stdout",
     "output_type": "stream",
     "text": [
      "['False', 'None', 'True', 'and', 'as', 'assert', 'async', 'await', 'break', 'class', 'continue', 'def', 'del', 'elif', 'else', 'except', 'finally', 'for', 'from', 'global', 'if', 'import', 'in', 'is', 'lambda', 'nonlocal', 'not', 'or', 'pass', 'raise', 'return', 'try', 'while', 'with', 'yield']\n"
     ]
    }
   ],
   "source": [
    "#KEYWORDS : \n",
    "    #the reserved words having a specific meaning\n",
    "    #33+keyword in puyhon\n",
    "\n",
    "#list all keywwords\n",
    "import keyword\n",
    "print(keyword.kwlist)\n",
    "#output : ['False', 'None', 'True', 'and', 'as', 'assert', 'async', \n",
    "# 'await', 'break', 'class', 'continue', 'def', 'del', 'elif', 'else', \n",
    "# 'except', 'finally', 'for', 'from', 'global', 'if', 'import', 'in', 'is',\n",
    "# 'lambda', 'nonlocal', 'not', 'or', 'pass', 'raise', 'return', 'try', 'while', 'with', 'yield']"
   ]
  },
  {
   "cell_type": "code",
   "execution_count": 2,
   "metadata": {},
   "outputs": [
    {
     "name": "stdout",
     "output_type": "stream",
     "text": [
      "hello world\n"
     ]
    }
   ],
   "source": [
    "#identifiers : \n",
    "    #a name in python  program is called identifier\n",
    "    #it can be class name, function,variable ,Module. \n",
    "\n",
    "#rules for identifier defination: \n",
    "    #1. allowed caracher are alphabet (upper and lower case),digits (0-9) and underscore(_).\n",
    "    #2. not be start with a number or digit.DeprecationWarning.DeprecationWarning\n",
    "    #3. identifer are case sensitive.\n",
    "    #4. keywords cannot be used1\n",
    "\n",
    "#example \n",
    "title_1=\"hello world\"\n",
    "print(title_1)\n"
   ]
  },
  {
   "cell_type": "code",
   "execution_count": 3,
   "metadata": {},
   "outputs": [],
   "source": [
    "# data types in python :\n",
    "    # ther represents the type of data present in variable\n",
    "    # there are no need of specifing explecitily the data type in python\n",
    "    #based on value type it allocate it automatically\n",
    "    #therefore it is called a dynamically typed\n",
    "    #there are many in build data type\n",
    "\n",
    "\n",
    "#data ( inbuilt )types are : - int,float,bool,double,string,constant,bytes,bytesarray,range,list,touple,set,frozen set dictionary\n",
    "\n",
    "\n",
    "#primary data types are :- int ,float,complex,string,bool\n",
    "\n"
   ]
  },
  {
   "cell_type": "code",
   "execution_count": 4,
   "metadata": {},
   "outputs": [],
   "source": [
    "#functions :-\n",
    "        #block of code to perforn a specific operation or program .\n",
    "        #2 types :-type function and id function\n",
    "                # type function = type() :- it returns the datatype of the given value\n",
    "\n",
    "                # id function = id() :- returns the id of the value \n"
   ]
  },
  {
   "cell_type": "code",
   "execution_count": 5,
   "metadata": {},
   "outputs": [
    {
     "name": "stdout",
     "output_type": "stream",
     "text": [
      "12345234\n",
      "<class 'int'>\n",
      "2688236127568\n",
      "12345234\n",
      "<class 'int'>\n",
      "2688236127600\n",
      "41\n",
      "<class 'int'>\n",
      "2688154469872\n",
      "83\n",
      "<class 'int'>\n",
      "2688154471216\n",
      "499\n",
      "<class 'int'>\n",
      "0b101\n",
      "0x5\n",
      "0o5\n"
     ]
    }
   ],
   "source": [
    "# integer datatype :\n",
    "        # decimal ,hexadecimal , binary,octal function used to convert data into different number system\n",
    "                #binary = 0b----- or 0B----\n",
    "                #decimal = normally\n",
    "                #octal = 0o---- or 0O-----\n",
    "                #hexadecimal = 0X----- or 0x-----\n",
    "\n",
    "        # can store unlimited numbers \n",
    "\n",
    "a=12345234  #integer\n",
    "print(a)        # output = 12345234                 \n",
    "print(type(a))  # output = <class 'int'>\n",
    "print(id(a))    # output = 2885337994608\n",
    "\n",
    "b=12345234  #decimal\n",
    "print(b)        # output = 12345234\n",
    "print(type(b))  # output = <class 'int'>\n",
    "print(id(b))    # output = 2885336946512\n",
    "\n",
    "c=0b101001  #binary\n",
    "print(c)        # output = 41    (store data in decimal form not in binary)  (b in 0b101001 can be B or b)\n",
    "print(type(c))  # output = <class 'int'>\n",
    "print(id(c))    # output = 2885251892720\n",
    "\n",
    "\n",
    "#day 3 \n",
    "d=0o123   #octal only 3 no\n",
    "print(d)        # output = 83    (store data in decimal form not in octal)  (o in 0o123 can be O or o)\n",
    "print(type(d))  # output = <class 'int'>\n",
    "print(id(d))    # output = 2885251894064\n",
    "\n",
    "e=0x1f3 #hexadecimal\n",
    "print(e)        # output = 499    (store data in decimal form not in hexadecimal)  (x in 0x1f3 can be x or X)\n",
    "print(type(e))  # output = <class 'int'>\n",
    "\n",
    "\n",
    "#print in diff no form\n",
    "print(bin(5))  # output = 0b101\n",
    "print(hex(5))  # output = 0x5\n",
    "print(oct(5))  # output = 0o5"
   ]
  },
  {
   "attachments": {},
   "cell_type": "markdown",
   "metadata": {},
   "source": [
    "# **Day 3**"
   ]
  },
  {
   "cell_type": "code",
   "execution_count": 6,
   "metadata": {},
   "outputs": [
    {
     "name": "stdout",
     "output_type": "stream",
     "text": [
      "3.14e+20\n",
      "<class 'float'>\n",
      "2688236128176\n"
     ]
    }
   ],
   "source": [
    "#float datatype:\n",
    "    # used to represent fraction of floating datatype.\n",
    "    #can also be used to represent in exponential form\n",
    "\n",
    "a=3.14e20\n",
    "print(a)        # output = 3.14e+20                \n",
    "print(type(a))  # output = <class 'float'>\n",
    "print(id(a))    # output = 2885365736784"
   ]
  },
  {
   "cell_type": "code",
   "execution_count": 7,
   "metadata": {},
   "outputs": [
    {
     "name": "stdout",
     "output_type": "stream",
     "text": [
      "(20+50j)\n",
      "<class 'complex'>\n",
      "(42+50j)\n",
      "<class 'complex'>\n",
      "42.0\n",
      "50.0\n"
     ]
    }
   ],
   "source": [
    "# complex data type : \n",
    "    # a number of form a+bj is called complex no where a in real no and b is a complex no or imaginary no \n",
    "    # here and be can be both inter or float\n",
    "    # can be in any form dec, bin,hexa,octal in case of \" a \" but in be it can only be in decimal form.\n",
    "    # it  contain 2 method :\n",
    "    #real = return real part and   img = return imag part\n",
    "    #done using a . (dot) operator\n",
    "\n",
    "\n",
    "a=20+50j\n",
    "print(a)        # output = (20+50j)               \n",
    "print(type(a))  # output = <class 'complex'>\n",
    "\n",
    "a=0x2A+50j\n",
    "print(a)        # output = (20+50j)               \n",
    "print(type(a))  # output = <class 'complex'>\n",
    "print(a.real)   # output = 42.0             \n",
    "print(a.imag)   # output = 50.0               \n"
   ]
  },
  {
   "cell_type": "code",
   "execution_count": 8,
   "metadata": {},
   "outputs": [
    {
     "name": "stdout",
     "output_type": "stream",
     "text": [
      "True\n",
      "<class 'bool'>\n"
     ]
    }
   ],
   "source": [
    "#bool datatype : \n",
    "    #used to represent boolean values\n",
    "    #it can be either True or False\n",
    "    # python store true as 1 and false as 0\n",
    "\n",
    "\n",
    "a=True   # if true then name error\n",
    "print(a)        # output = True               \n",
    "print(type(a))  # output = <class 'bool'>\n",
    "\n"
   ]
  },
  {
   "cell_type": "code",
   "execution_count": 9,
   "metadata": {},
   "outputs": [
    {
     "name": "stdout",
     "output_type": "stream",
     "text": [
      "Hello to everyone\n",
      "<class 'str'>\n",
      " Hello to everyone\n",
      "<class 'str'>\n",
      "shyam asked aastha ,\"How are you?\"\n",
      "<class 'str'>\n",
      "shyam asked aastha ,\n",
      "\"How are you?\n",
      "<class 'str'>\n"
     ]
    }
   ],
   "source": [
    "#string datatype : \n",
    "    #string is a sequence of chatrachter \n",
    "    #imutable : - cannot be modified only readable\n",
    "\n",
    "a=\"Hello to everyone\"   \n",
    "print(a)        # output = Hello to everyone              \n",
    "print(type(a))  # output = <class 'str'>\n",
    "\n",
    "\n",
    "a=\"\"\" Hello to everyone\"\"\"   \n",
    "print(a)        # output = Hello to everyone              \n",
    "print(type(a))  # output = <class 'str'>\n",
    "\n",
    "\n",
    "\n",
    "                                    # single quote inside double qoutes\n",
    "                                    # same quote double inside singel quote\n",
    "                                    # tripple quote for mylti line string\n",
    "\n",
    "\n",
    "\n",
    "a='shyam asked aastha ,\"How are you?\"'\n",
    "print(a)        # output = shyam asked aastha ,\"How are you?\"              \n",
    "print(type(a))  # output = <class 'str'>\n",
    "\n",
    "a='''shyam asked aastha ,\n",
    "\"How are you?'''\n",
    "print(a)        # output = shyam asked aastha ,\"How are you?\"              \n",
    "print(type(a))  # output = <class 'str'>"
   ]
  },
  {
   "cell_type": "code",
   "execution_count": 10,
   "metadata": {},
   "outputs": [
    {
     "name": "stdout",
     "output_type": "stream",
     "text": [
      "shyam\\nair\n",
      "<class 'str'>\n"
     ]
    }
   ],
   "source": [
    "#escape charachter:\n",
    "    # it has a special meaning in string\n",
    "    #example :-  \\n  newline ,\\t new tab,\\a= ? , \\'=', \\\"=\", /r = remove left side , \\\\ =\\\n",
    "\n",
    "\n",
    "a='shyam\\\\nair'\n",
    "print(a)        # output = shyam asked aastha ,\"How are you?\"              \n",
    "print(type(a))  # output = <class 'str'>"
   ]
  },
  {
   "cell_type": "code",
   "execution_count": 11,
   "metadata": {},
   "outputs": [
    {
     "name": "stdout",
     "output_type": "stream",
     "text": [
      "s\n",
      "r\n",
      "10\n"
     ]
    }
   ],
   "source": [
    "#indexing a string : \n",
    "    # represented by []\n",
    "    #starts from left to right ( from 0 to infinity ) \n",
    "    #starts from right to left ( from -1 to -infinity )\n",
    "    #space also has indexing no\n",
    "\n",
    "a=\"shyam nair\"\n",
    "print(a[0])        # output = s            \n",
    "print(a[-1])        # output = r  \n",
    "\n",
    "\n",
    "#length can be given by len( identifier )\n",
    "\n",
    "print(len(a))   #output = 10"
   ]
  },
  {
   "cell_type": "code",
   "execution_count": 12,
   "metadata": {},
   "outputs": [
    {
     "name": "stdout",
     "output_type": "stream",
     "text": [
      "shyam nai\n",
      "hyam na\n",
      "symni\n",
      "san\n"
     ]
    }
   ],
   "source": [
    "#slicing in string:\n",
    "    #represented by [:]\n",
    "    #workd same as above \n",
    "    #syntax  =  [starting position: ending position (explesits the last one :step)]\n",
    "a=\"shyam nair\"\n",
    "print(a[0:-1])        # output = shyam nai  #explesits -1\n",
    "print(a[1:8])        # output = hyam na same as above explesitts r   \n",
    "\n",
    "\n",
    "\n",
    "    #by default it is 1\n",
    "    \n",
    "print(a[0:-1:2])        # output = symni  #jumps letters 2 letter from the given one \n",
    "#print(a[1:10:0])        # output = error cannot be zero\n",
    "print(a[0:-1:3])        # output = san  #jumps letters 3 letter from the given one \n",
    "        "
   ]
  },
  {
   "cell_type": "code",
   "execution_count": 13,
   "metadata": {},
   "outputs": [
    {
     "name": "stdout",
     "output_type": "stream",
     "text": [
      "rian mayhs\n",
      "rian mayhs\n"
     ]
    }
   ],
   "source": [
    "# Reversing a string using string slicing :\n",
    "    #done by str[::-1]   print in reverse order from -1 to last\n",
    "\n",
    "a=\"shyam nair\"\n",
    "print(a[::-1])        # output = rian mayhs  #explesits none\n",
    "print(a[-1::-1])        # output = rian mayhs  \n"
   ]
  },
  {
   "cell_type": "code",
   "execution_count": 14,
   "metadata": {},
   "outputs": [
    {
     "name": "stdout",
     "output_type": "stream",
     "text": [
      "shyam nair : is a good boy \n",
      "<class 'str'>\n",
      "sum of 2 and 6 is 8 \n",
      "sum of 2 and 6 is {2+6} \n"
     ]
    }
   ],
   "source": [
    "# formating a string :\n",
    "    # it uses { }  replacement operator\n",
    "    #need to use f before the formating string as xyz= f\"........... {} ............\"\n",
    "    # f is used for formating  and r  for raw data\n",
    "\n",
    "a=\"shyam nair\"\n",
    "b=f\"{a} : is a good boy \"\n",
    "print(b)   #output : shyam nair : is a good boy \n",
    "print(type(b))  #output = <class 'str'>\n",
    "\n",
    "print(f\"sum of 2 and 6 is {2+6} \")   # output = sum of 2 and 6 is 8 \n",
    "print(r\"sum of 2 and 6 is {2+6} \")   # output = sum of 2 and 6 is {2+6} \n"
   ]
  },
  {
   "cell_type": "code",
   "execution_count": 15,
   "metadata": {},
   "outputs": [
    {
     "name": "stdout",
     "output_type": "stream",
     "text": [
      "0\n",
      "3\n",
      "12\n",
      "-1\n",
      "0\n",
      "3\n",
      "12\n",
      "4\n",
      "0\n",
      "0\n",
      "           hello     everyone         \n",
      "hello     everyone\n",
      "hello everyone how are you\n",
      "hell  *   every  *  ne h  *  w are y  *  u\n"
     ]
    }
   ],
   "source": [
    "#methods of a string:\n",
    "    #1. split method = splite dtring in pattern done by split(\"pattern\") and it return in form of list\n",
    "\n",
    "    #2. (\"pattern\").join(sequence) : joins a string on the basis of pattern\n",
    "\n",
    "    #3.find.(\"pattern\",\"start\",\"end\") : finds the position of your patter detailif there if not prints -1\n",
    "    \n",
    "a=\"shyam nair says hai\"\n",
    "print(a.find(\"shyam\"))  # output  = 0 \n",
    "print(a.find(\"a\"))  # output  = 3     only selects the first one  \n",
    "\n",
    "print(a.find(\"a\",10,-1))  # output  = 12     specified position\n",
    "\n",
    "print(a.find(\"q\",10,-1))  # output  = -1 if not present in string\n",
    "\n",
    "    #4.index.(\"pattern\",\"start\",\"end\") : same as find method difference is that if element is not there error will be show \n",
    "    \n",
    "print(a.index(\"shyam\"))  # output  = 0 \n",
    "print(a.index(\"a\"))  # output  = 3     only selects the first one  \n",
    "\n",
    "print(a.index(\"a\",10,-1))  # output  = 12     specified position\n",
    "\n",
    "#print(a.index(\"q\",10,-1))  # output  = -error not present\n",
    "\n",
    "\n",
    "\n",
    "#day 4 --------------------------------------------------------------------------------------------------------\n",
    "\n",
    "\n",
    "    #5.count (pattern) :\n",
    "    #returns no of occurance of a specified pattern\n",
    "    #syntax count('pattern' : start :end )\n",
    "    \n",
    "print(a.count('a'))      # output = 4\n",
    "print(a.count('a',19))   # output =  0    after 19 0 a aviliable\n",
    "print(a.count('q'))      # output = 0\n",
    "\n",
    "\n",
    "#6. strip method:\n",
    "#removes all the spaces if in front or behind\n",
    "#only remove starting and ending one only\n",
    "a=\"           hello     everyone         \"\n",
    "print(a)\n",
    "print(a.strip())\n",
    "\n",
    "#6. replace method:\n",
    "#syntax   replace(old ,new)\n",
    "#used to replace the new pattern of the old one\n",
    "\n",
    "a=\"hello everyone how are you\"\n",
    "print(a)\n",
    "print(a.replace('o','  *  '))\n",
    "\n"
   ]
  },
  {
   "cell_type": "code",
   "execution_count": null,
   "metadata": {},
   "outputs": [],
   "source": []
  },
  {
   "attachments": {},
   "cell_type": "markdown",
   "metadata": {},
   "source": [
    "# **Day 4**"
   ]
  },
  {
   "cell_type": "code",
   "execution_count": 16,
   "metadata": {},
   "outputs": [
    {
     "name": "stdout",
     "output_type": "stream",
     "text": [
      "Hello everyone how are yoU\n",
      "HELLO EVERYONE HOW ARE YOU\n",
      "Hello Everyone How Are You\n",
      "hello everyone how are you\n",
      "Hello everyone how are you\n"
     ]
    }
   ],
   "source": [
    "# changing of case\n",
    "#changing to upper or lower case or making title case\n",
    "\n",
    "#upper(): convert to upper case\n",
    "a=\"Hello everyone how are yoU\"\n",
    "print(a)\n",
    "print(a.upper())                             #output = HELLO EVERYONE HOW ARE YOU\n",
    "\n",
    "#title(): get converted to title\n",
    "#starting of each word is in upper case\n",
    "print(a.title())                             #output = Hello Everyone How Are You\n",
    "\n",
    "#lower(); get converted to lowercase\n",
    "print(a.lower())                             #output = hello everyone how are you\n",
    "\n",
    "#capitilize()\n",
    "# print 1st letter a s capitan and not other\n",
    "print(a.capitalize())                        #output = Hello everyone how are you\n"
   ]
  },
  {
   "cell_type": "code",
   "execution_count": 17,
   "metadata": {},
   "outputs": [
    {
     "name": "stdout",
     "output_type": "stream",
     "text": [
      "False\n",
      "True\n",
      "True\n",
      "True\n",
      "True\n"
     ]
    }
   ],
   "source": [
    "#checking of case of string\n",
    "#done using is upper by isupper() or is lower by islower() or alphanumeric by isalnum or is alpha by is alpha() or is space by isspace()\n",
    "a=\"hello everyone how are you\"\n",
    "print(a.isupper())                   #output = False\n",
    "\n",
    "print(a.islower())                   #output = True\n",
    "\n",
    "a=\"helloeveryonehowareyou3323\"\n",
    "print(a.isalnum())                   #output = True\n",
    "\n",
    "a=\"helloeveryonehowareyou\"\n",
    "print(a.isalpha())                   #output = True\n",
    "\n",
    "a=\"        \"\n",
    "print(a.isspace())                   #output = True\n",
    "\n"
   ]
  },
  {
   "cell_type": "code",
   "execution_count": 18,
   "metadata": {},
   "outputs": [
    {
     "name": "stdout",
     "output_type": "stream",
     "text": [
      "range(1, 100, 2)\n",
      "<class 'range'>\n",
      "0\n",
      "2\n",
      "4\n",
      "6\n",
      "8\n"
     ]
    }
   ],
   "source": [
    "# data type range\n",
    "#to store sequence of integer or number\n",
    "#syntax  range (begining , ending ,step)\n",
    "a=range(1,100,2)\n",
    "print(a)                         #output = range(1, 100, 2)\n",
    "\n",
    "print(type(a))                   #output = <class 'range'>\n",
    "\n",
    "\n",
    "#example \n",
    "i=0\n",
    "for i in range(0,10,2):\n",
    "    print(i)               #output  = 0,2,4,6,8"
   ]
  },
  {
   "cell_type": "code",
   "execution_count": 19,
   "metadata": {},
   "outputs": [
    {
     "name": "stdout",
     "output_type": "stream",
     "text": [
      "<class 'str'>\n",
      "123\n",
      "<class 'int'>\n"
     ]
    }
   ],
   "source": [
    "#typecasting\n",
    "#the of convering from one data type to another datatype is called typecasting\n",
    "#done by using int(), float(), bool(), str()\n",
    "\n",
    "a=\"123\"\n",
    "print(type(a))    #output = <class 'str'>\n",
    "\n",
    "i=int(a)\n",
    "print(i)          #output = 123\n",
    "print(type(i))    #output = <class 'int'>"
   ]
  },
  {
   "attachments": {},
   "cell_type": "markdown",
   "metadata": {},
   "source": [
    "# **day 5**"
   ]
  },
  {
   "cell_type": "code",
   "execution_count": 20,
   "metadata": {},
   "outputs": [
    {
     "name": "stdout",
     "output_type": "stream",
     "text": [
      "50\n",
      "10\n",
      "0.6666666666666666\n",
      "20\n",
      "0\n",
      "400\n",
      "------------------------------------------------------------------------------------------------------------------------\n",
      "True\n",
      "False\n",
      "False\n",
      "True\n",
      "False\n",
      "True\n",
      "------------------------------------------------------------------------------------------------------------------------\n",
      "False\n",
      "True\n",
      "False\n"
     ]
    }
   ],
   "source": [
    "# operator :\n",
    "    #operatorsa are symbols that are used to perform specic operation in a program\n",
    "    #in python there are various types of operators\n",
    "    #Types are:\n",
    "    #1. arithmatic operator:\n",
    "        # used to perform arithmatic operation like +,-,%(mod = rem),/,*,**(power),//(floor division)\n",
    "\n",
    "a=20\n",
    "b=30\n",
    "print(a+b)        #output = 50\n",
    "print(b-a)        #output = 10\n",
    "print(a/b)        #output = 0.6666666666666666\n",
    "print(a%b)        #output = 20\n",
    "print(a//b)       #output = 0   only inter value\n",
    "print(a**2)       #output = 400\n",
    "print(\"------------------------------------------------------------------------------------------------------------------------\")\n",
    "\n",
    "\n",
    "    #2. Relational operator :\n",
    "        #also known as comparision opreator\n",
    "        #it consist of : <,>,==,<=,>=,!=\n",
    "print(a<b)       #output = True\n",
    "print(a>b)       #output = False\n",
    "print(a>=b)      #output = False\n",
    "print(a<=b)      #output = True\n",
    "print(a==b)      #output = False\n",
    "print(a!=b)      #output = True\n",
    "print(\"------------------------------------------------------------------------------------------------------------------------\")\n",
    "\n",
    "\n",
    "    #3. logical operator :\n",
    "        #used to perform logical operation\n",
    "        #it consist of : and(if both are true the it will print true else false) ,or(it will print false if both are false else will print true ),not(used to do negation of a statement)\n",
    "a=True\n",
    "b=False\n",
    "print(a and b)           #output = False \n",
    "print(a or b)            #output = True \n",
    "print(not(a))            #output = False\n"
   ]
  },
  {
   "cell_type": "code",
   "execution_count": 21,
   "metadata": {},
   "outputs": [
    {
     "name": "stdout",
     "output_type": "stream",
     "text": [
      "4\n",
      "5\n",
      "1\n",
      "-6\n",
      "2\n",
      "10\n",
      "20\n",
      "-----------------------------------------------------------------------------------------------------\n",
      "True\n",
      "False\n",
      "2688154469200 2688154469200\n",
      "-----------------------------------------------------------------------------------------\n",
      "True\n",
      "False\n"
     ]
    }
   ],
   "source": [
    "    #4. bitwise operator:\n",
    "        #it consist of &(bitwise and),|(bitwise or), ^(if both same then 0 else 1),~(complement),>>(binary shift right ),<<(binary shift left)\n",
    "        #applies on boolean and integric value\n",
    "        #not applicable on string and other values .\n",
    "        #bitwise and if both are 1 thern it will give 1  else will give zero\n",
    "        #bit wise or  if both are 0 then will print 0 else will give 1\n",
    "\n",
    "a=5 #het converted to binary form and performs binary operaion or bitwise operation\n",
    "b=4\n",
    "print(a & b)           #output = 4   \n",
    "print(a | b)           #output = 5 \n",
    "print(a^b)           #output = 1 \n",
    "print(~a)           #output = -6 \n",
    "print(5>>1)           #output = 2 \n",
    "print(5<<1)           #output = 10\n",
    "\n",
    "    #5. assignment operator:\n",
    "        #consist of only =\n",
    "        #used to store a value\n",
    "a=20\n",
    "print(a) \n",
    "print(\"-----------------------------------------------------------------------------------------------------\")\n",
    "\n",
    "\n",
    "    #6. special operator:\n",
    "        #1. identity operator:\n",
    "            #check if id of both value is same or not\n",
    "            #it consit of is and is not\n",
    "a=20\n",
    "b=20\n",
    "print(a is b)              #output = True\n",
    "print (a is not b)         #output = False\n",
    "print(id(a),id(b))         #output = 1329648632656 1329648632656    same id\n",
    "print(\"-----------------------------------------------------------------------------------------\")\n",
    "\n",
    "\n",
    "#2. member ship operator : \n",
    "#it check if a string text or symbol is a sequence of part of a member or not\n",
    "#it consist of in amd not in\n",
    "a=\"hellow world\"\n",
    "b=\"world hellow\"\n",
    "print(\"world\" in b)                #output = true\n",
    "print(\"hellow\" not in b)            #output = Frue\n"
   ]
  },
  {
   "cell_type": "code",
   "execution_count": 22,
   "metadata": {},
   "outputs": [
    {
     "name": "stdout",
     "output_type": "stream",
     "text": [
      "welcome :  \n",
      "<class 'str'>\n"
     ]
    }
   ],
   "source": [
    " #input and output function\n",
    " #used to provide and print an input or output\n",
    " \n",
    " #input function =  input()\n",
    " #always returns a data in form of a string\n",
    " \n",
    " a_input = input(\"enter your name : \")\n",
    " print(\"welcome : \",a_input)                             #optput = 1\n",
    " print(type(a_input))                       #utput = <class 'str'>"
   ]
  },
  {
   "cell_type": "code",
   "execution_count": 23,
   "metadata": {},
   "outputs": [
    {
     "ename": "SyntaxError",
     "evalue": "invalid syntax (<string>, line 0)",
     "output_type": "error",
     "traceback": [
      "Traceback \u001b[1;36m(most recent call last)\u001b[0m:\n",
      "\u001b[0m  File \u001b[0;32mc:\\Users\\shyam\\AppData\\Local\\Programs\\Python\\Python310\\lib\\site-packages\\IPython\\core\\interactiveshell.py:3378\u001b[0m in \u001b[0;35mrun_code\u001b[0m\n    exec(code_obj, self.user_global_ns, self.user_ns)\u001b[0m\n",
      "\u001b[1;36m  Cell \u001b[1;32mIn [23], line 4\u001b[1;36m\n\u001b[1;33m    a=eval(input(\"enter anything : \"))\u001b[1;36m\n",
      "\u001b[1;36m  File \u001b[1;32m<string>\u001b[1;36m\u001b[0m\n\u001b[1;33m    \u001b[0m\n\u001b[1;37m    ^\u001b[0m\n\u001b[1;31mSyntaxError\u001b[0m\u001b[1;31m:\u001b[0m invalid syntax\n"
     ]
    }
   ],
   "source": [
    "#to work according to the type of input and not considering all as string, we use evalve fnction\n",
    "#used to convert the string passed on in its correct format of input.\n",
    "#function used if eval() \n",
    "a=eval(input(\"enter anything : \"))\n",
    "print(a)                                #output = 1\n",
    "print(type(a))                          #output = <class 'int'>\n"
   ]
  },
  {
   "cell_type": "code",
   "execution_count": 24,
   "metadata": {},
   "outputs": [
    {
     "name": "stdout",
     "output_type": "stream",
     "text": [
      "1 hello every one\n",
      "1#hello#world\n",
      "hello - world\n",
      "jockey\n"
     ]
    }
   ],
   "source": [
    "#output function\n",
    "#uses print function = print()\n",
    "print(1,\"hello\",\"every one\")      #output = 1 hello every one\n",
    "\n",
    "\n",
    "#since data is being seperated by some space when we give , in print to change so ve use structure operator or seperator by:\n",
    "#sep=\"-\"\n",
    "print(1,\"hello\",\"world\",sep=\"#\")  #output = 1#hello#world\n",
    "\n",
    "#to join 2 print we use endline function by:\n",
    "#end=\" \"  we can ad symbols in place of space\n",
    "#can only add upto the next print only not more than that\n",
    "print(\"hello\" , end=\" - \")\n",
    "print(\"world\")                  #output = hello - world\n",
    "print(\"jockey\")                 #output = jockey\n"
   ]
  },
  {
   "attachments": {},
   "cell_type": "markdown",
   "metadata": {},
   "source": [
    "# **Day 6**\n"
   ]
  },
  {
   "attachments": {},
   "cell_type": "markdown",
   "metadata": {},
   "source": []
  },
  {
   "attachments": {},
   "cell_type": "markdown",
   "metadata": {},
   "source": [
    "# **Day 7**"
   ]
  },
  {
   "attachments": {},
   "cell_type": "markdown",
   "metadata": {},
   "source": [
    "OOP = object oriented programming\n",
    "\n",
    "a paradigm for programming\n",
    "a set of rules enforced by the compiler or interpreter\n",
    "a set of features and guidelines supported by compiler and interpretter\n",
    "a way of thinking about and writing software "
   ]
  },
  {
   "attachments": {},
   "cell_type": "markdown",
   "metadata": {},
   "source": [
    "basic ideas are\n",
    "\n",
    "classes\n",
    "objects\n",
    "attributes\n",
    "methods\n",
    "encapsulation\n",
    "inheritance\n",
    "polymorphism\n"
   ]
  },
  {
   "attachments": {},
   "cell_type": "markdown",
   "metadata": {},
   "source": [
    "# **Day 8**"
   ]
  },
  {
   "cell_type": "code",
   "execution_count": 25,
   "metadata": {},
   "outputs": [
    {
     "ename": "NameError",
     "evalue": "name 'DrawCircle' is not defined",
     "output_type": "error",
     "traceback": [
      "\u001b[1;31m---------------------------------------------------------------------------\u001b[0m",
      "\u001b[1;31mNameError\u001b[0m                                 Traceback (most recent call last)",
      "\u001b[1;32mc:\\Users\\shyam\\Desktop\\class\\python_internship_1_month_work\\python.ipynb Cell 36\u001b[0m in \u001b[0;36m7\n\u001b[0;32m      <a href='vscode-notebook-cell:/c%3A/Users/shyam/Desktop/class/python_internship_1_month_work/python.ipynb#X50sZmlsZQ%3D%3D?line=3'>4</a>\u001b[0m color\u001b[39m=\u001b[39m\u001b[39m'\u001b[39m\u001b[39mGreen\u001b[39m\u001b[39m'\u001b[39m\n\u001b[0;32m      <a href='vscode-notebook-cell:/c%3A/Users/shyam/Desktop/class/python_internship_1_month_work/python.ipynb#X50sZmlsZQ%3D%3D?line=4'>5</a>\u001b[0m circleFilled\u001b[39m=\u001b[39m\u001b[39mTrue\u001b[39;00m \n\u001b[1;32m----> <a href='vscode-notebook-cell:/c%3A/Users/shyam/Desktop/class/python_internship_1_month_work/python.ipynb#X50sZmlsZQ%3D%3D?line=6'>7</a>\u001b[0m DrawCircle(rad)\n",
      "\u001b[1;31mNameError\u001b[0m: name 'DrawCircle' is not defined"
     ]
    }
   ],
   "source": [
    "rad=2.4\n",
    "x=167\n",
    "y=120\n",
    "color='Green'\n",
    "circleFilled=True \n",
    "\n",
    "DrawCircle(rad)"
   ]
  },
  {
   "cell_type": "code",
   "execution_count": null,
   "metadata": {},
   "outputs": [
    {
     "ename": "SyntaxError",
     "evalue": "invalid syntax (3202925142.py, line 1)",
     "output_type": "error",
     "traceback": [
      "\u001b[1;36m  Cell \u001b[1;32mIn [15], line 1\u001b[1;36m\u001b[0m\n\u001b[1;33m    new Circle c1\u001b[0m\n\u001b[1;37m        ^\u001b[0m\n\u001b[1;31mSyntaxError\u001b[0m\u001b[1;31m:\u001b[0m invalid syntax\n"
     ]
    }
   ],
   "source": [
    "new Circle c1\n",
    "\n",
    "c1.rad=6.3\n",
    "c1.x=100\n",
    "c1.y=120\n",
    "Circles=[c1,c2,c3]\n",
    "DrawCircle(c1)"
   ]
  },
  {
   "attachments": {},
   "cell_type": "markdown",
   "metadata": {},
   "source": [
    "an object representation a collection of traits and behaviour = attributes and method\n",
    "\n",
    "classes are not objects\n",
    "\n",
    "here \n",
    "Circle = class\n",
    "c1 = object\n",
    "object contains multiple and different variables\n",
    "can use list etc\n",
    "\n",
    "classs is a blue print of a program containg all traits and propreties and not a object\n",
    "there can be multiple objects of a class\n"
   ]
  },
  {
   "cell_type": "code",
   "execution_count": 26,
   "metadata": {},
   "outputs": [
    {
     "name": "stdout",
     "output_type": "stream",
     "text": [
      "100\n",
      "120\n",
      "Yellow \n",
      " True \n",
      " <__main__.Circle object at 0x00000271E8818AC0>\n",
      "120 130\n"
     ]
    }
   ],
   "source": [
    "class Circle() :\n",
    "    rad=0\n",
    "    x=2\n",
    "    y=3\n",
    "    color=\"\"\n",
    "    filled = False\n",
    "\n",
    "c1=Circle()\n",
    "c1.rad=6.3\n",
    "c1.x=100\n",
    "c1.y=120\n",
    "c1.color=\"Yellow\"\n",
    "c1.filled=True\n",
    "\n",
    "c2=Circle()\n",
    "c2.rad=61.3\n",
    "c2.x=102\n",
    "c2.y=130\n",
    "c2.color=\"Red\"\n",
    "c2.filled=False\n",
    "\n",
    "print(c1.x)\n",
    "print(c1.y)\n",
    "print(c1.color,\"\\n\",c1.filled,\"\\n\",c1)  \n",
    "\n",
    "Circles =[c1,c2]\n",
    "print(Circles[0].y,Circles[1].y)"
   ]
  },
  {
   "cell_type": "code",
   "execution_count": 27,
   "metadata": {},
   "outputs": [
    {
     "ename": "ValueError",
     "evalue": "invalid literal for int() with base 10: ''",
     "output_type": "error",
     "traceback": [
      "\u001b[1;31m---------------------------------------------------------------------------\u001b[0m",
      "\u001b[1;31mValueError\u001b[0m                                Traceback (most recent call last)",
      "\u001b[1;32mc:\\Users\\shyam\\Desktop\\class\\python_internship_1_month_work\\python.ipynb Cell 40\u001b[0m in \u001b[0;36m1\n\u001b[0;32m      <a href='vscode-notebook-cell:/c%3A/Users/shyam/Desktop/class/python_internship_1_month_work/python.ipynb#X54sZmlsZQ%3D%3D?line=8'>9</a>\u001b[0m \u001b[39mfor\u001b[39;00m x \u001b[39min\u001b[39;00m \u001b[39mrange\u001b[39m(\u001b[39m0\u001b[39m,\u001b[39m5\u001b[39m):\n\u001b[0;32m     <a href='vscode-notebook-cell:/c%3A/Users/shyam/Desktop/class/python_internship_1_month_work/python.ipynb#X54sZmlsZQ%3D%3D?line=9'>10</a>\u001b[0m     c\u001b[39m=\u001b[39mCircle()\n\u001b[1;32m---> <a href='vscode-notebook-cell:/c%3A/Users/shyam/Desktop/class/python_internship_1_month_work/python.ipynb#X54sZmlsZQ%3D%3D?line=10'>11</a>\u001b[0m     c\u001b[39m.\u001b[39mradius\u001b[39m=\u001b[39m\u001b[39mint\u001b[39m(\u001b[39minput\u001b[39m(\u001b[39m\"\u001b[39m\u001b[39menter radius of a circle : \u001b[39m\u001b[39m\"\u001b[39m))\n\u001b[0;32m     <a href='vscode-notebook-cell:/c%3A/Users/shyam/Desktop/class/python_internship_1_month_work/python.ipynb#X54sZmlsZQ%3D%3D?line=11'>12</a>\u001b[0m     circles\u001b[39m.\u001b[39mappend(c)\n\u001b[0;32m     <a href='vscode-notebook-cell:/c%3A/Users/shyam/Desktop/class/python_internship_1_month_work/python.ipynb#X54sZmlsZQ%3D%3D?line=14'>15</a>\u001b[0m \u001b[39mprint\u001b[39m(circles[\u001b[39m1\u001b[39m]\u001b[39m.\u001b[39mradius)\n",
      "\u001b[1;31mValueError\u001b[0m: invalid literal for int() with base 10: ''"
     ]
    }
   ],
   "source": [
    "class Circles() :\n",
    "    rad=0\n",
    "    x=2\n",
    "    y=3\n",
    "    color=\"\"\n",
    "    filled = False\n",
    "\n",
    "circles=[]\n",
    "for x in range(0,5):\n",
    "    c=Circle()\n",
    "    c.radius=int(input(\"enter radius of a circle : \"))\n",
    "    circles.append(c)\n",
    "\n",
    "\n",
    "print(circles[1].radius)"
   ]
  },
  {
   "cell_type": "code",
   "execution_count": null,
   "metadata": {},
   "outputs": [],
   "source": []
  },
  {
   "attachments": {},
   "cell_type": "markdown",
   "metadata": {},
   "source": [
    "# **Day 9**"
   ]
  },
  {
   "cell_type": "code",
   "execution_count": 28,
   "metadata": {},
   "outputs": [
    {
     "ename": "ValueError",
     "evalue": "invalid literal for int() with base 10: ''",
     "output_type": "error",
     "traceback": [
      "\u001b[1;31m---------------------------------------------------------------------------\u001b[0m",
      "\u001b[1;31mValueError\u001b[0m                                Traceback (most recent call last)",
      "\u001b[1;32mc:\\Users\\shyam\\Desktop\\class\\python_internship_1_month_work\\python.ipynb Cell 43\u001b[0m in \u001b[0;36m1\n\u001b[1;32m----> <a href='vscode-notebook-cell:/c%3A/Users/shyam/Desktop/class/python_internship_1_month_work/python.ipynb#X60sZmlsZQ%3D%3D?line=0'>1</a>\u001b[0m a\u001b[39m=\u001b[39m\u001b[39mint\u001b[39m(\u001b[39minput\u001b[39m(\u001b[39m\"\u001b[39m\u001b[39menter a number \u001b[39m\u001b[39m\"\u001b[39m))\n\u001b[0;32m      <a href='vscode-notebook-cell:/c%3A/Users/shyam/Desktop/class/python_internship_1_month_work/python.ipynb#X60sZmlsZQ%3D%3D?line=1'>2</a>\u001b[0m b\u001b[39m=\u001b[39m\u001b[39mint\u001b[39m(\u001b[39minput\u001b[39m(\u001b[39m\"\u001b[39m\u001b[39menter a number \u001b[39m\u001b[39m\"\u001b[39m))\n\u001b[0;32m      <a href='vscode-notebook-cell:/c%3A/Users/shyam/Desktop/class/python_internship_1_month_work/python.ipynb#X60sZmlsZQ%3D%3D?line=2'>3</a>\u001b[0m \u001b[39mprint\u001b[39m(a\u001b[39m+\u001b[39mb)\n",
      "\u001b[1;31mValueError\u001b[0m: invalid literal for int() with base 10: ''"
     ]
    }
   ],
   "source": [
    "a=int(input(\"enter a number \"))\n",
    "b=int(input(\"enter a number \"))\n",
    "print(a+b)"
   ]
  },
  {
   "cell_type": "code",
   "execution_count": 29,
   "metadata": {},
   "outputs": [
    {
     "ename": "ValueError",
     "evalue": "invalid literal for int() with base 10: ''",
     "output_type": "error",
     "traceback": [
      "\u001b[1;31m---------------------------------------------------------------------------\u001b[0m",
      "\u001b[1;31mValueError\u001b[0m                                Traceback (most recent call last)",
      "\u001b[1;32mc:\\Users\\shyam\\Desktop\\class\\python_internship_1_month_work\\python.ipynb Cell 44\u001b[0m in \u001b[0;36m1\n\u001b[1;32m----> <a href='vscode-notebook-cell:/c%3A/Users/shyam/Desktop/class/python_internship_1_month_work/python.ipynb#X61sZmlsZQ%3D%3D?line=0'>1</a>\u001b[0m a\u001b[39m=\u001b[39m\u001b[39mint\u001b[39m(\u001b[39minput\u001b[39m(\u001b[39m\"\u001b[39m\u001b[39menter a number \u001b[39m\u001b[39m\"\u001b[39m))\n\u001b[0;32m      <a href='vscode-notebook-cell:/c%3A/Users/shyam/Desktop/class/python_internship_1_month_work/python.ipynb#X61sZmlsZQ%3D%3D?line=1'>2</a>\u001b[0m b\u001b[39m=\u001b[39m\u001b[39m0\u001b[39m\n\u001b[0;32m      <a href='vscode-notebook-cell:/c%3A/Users/shyam/Desktop/class/python_internship_1_month_work/python.ipynb#X61sZmlsZQ%3D%3D?line=2'>3</a>\u001b[0m \u001b[39mif\u001b[39;00m a \u001b[39m==\u001b[39m \u001b[39m1\u001b[39m:\n",
      "\u001b[1;31mValueError\u001b[0m: invalid literal for int() with base 10: ''"
     ]
    }
   ],
   "source": [
    "a=int(input(\"enter a number \"))\n",
    "b=0\n",
    "if a == 1:\n",
    "    print(a,\" = is not prime .\")\n",
    "\n",
    "elif a > 1:\n",
    "    for i in range(2, a):\n",
    "        if (a % i) == 0:\n",
    "            b=b+1\n",
    "            break\n",
    "\n",
    "if(b==0):\n",
    "    print(a,\" = is prime number\")\n",
    "else:\n",
    "    print(a ,\" =  is not prime\")\n",
    "\n"
   ]
  },
  {
   "cell_type": "code",
   "execution_count": 30,
   "metadata": {},
   "outputs": [
    {
     "ename": "ValueError",
     "evalue": "invalid literal for int() with base 10: ''",
     "output_type": "error",
     "traceback": [
      "\u001b[1;31m---------------------------------------------------------------------------\u001b[0m",
      "\u001b[1;31mValueError\u001b[0m                                Traceback (most recent call last)",
      "\u001b[1;32mc:\\Users\\shyam\\Desktop\\class\\python_internship_1_month_work\\python.ipynb Cell 45\u001b[0m in \u001b[0;36m1\n\u001b[1;32m----> <a href='vscode-notebook-cell:/c%3A/Users/shyam/Desktop/class/python_internship_1_month_work/python.ipynb#X62sZmlsZQ%3D%3D?line=0'>1</a>\u001b[0m a\u001b[39m=\u001b[39m\u001b[39mint\u001b[39m(\u001b[39minput\u001b[39m(\u001b[39m\"\u001b[39m\u001b[39menter a number to get the factorial \u001b[39m\u001b[39m\"\u001b[39m))\n\u001b[0;32m      <a href='vscode-notebook-cell:/c%3A/Users/shyam/Desktop/class/python_internship_1_month_work/python.ipynb#X62sZmlsZQ%3D%3D?line=1'>2</a>\u001b[0m \u001b[39mif\u001b[39;00m(a\u001b[39m==\u001b[39m\u001b[39m0\u001b[39m \u001b[39m|\u001b[39m a\u001b[39m==\u001b[39m\u001b[39m1\u001b[39m):\n\u001b[0;32m      <a href='vscode-notebook-cell:/c%3A/Users/shyam/Desktop/class/python_internship_1_month_work/python.ipynb#X62sZmlsZQ%3D%3D?line=2'>3</a>\u001b[0m     \u001b[39mprint\u001b[39m(a,\u001b[39m\"\u001b[39m\u001b[39m! = 1\u001b[39m\u001b[39m\"\u001b[39m)   \n",
      "\u001b[1;31mValueError\u001b[0m: invalid literal for int() with base 10: ''"
     ]
    }
   ],
   "source": [
    "a=int(input(\"enter a number to get the factorial \"))\n",
    "if(a==0 | a==1):\n",
    "    print(a,\"! = 1\")   \n",
    "c=a\n",
    "q=1\n",
    "for x in range (1,c):\n",
    "    q=q*c\n",
    "    c=c-1\n",
    "    \n",
    "print(a,\"! = \",q)\n",
    "   "
   ]
  },
  {
   "cell_type": "code",
   "execution_count": null,
   "metadata": {},
   "outputs": [],
   "source": []
  },
  {
   "attachments": {},
   "cell_type": "markdown",
   "metadata": {},
   "source": [
    "# **day 10**"
   ]
  },
  {
   "attachments": {},
   "cell_type": "markdown",
   "metadata": {},
   "source": [
    "Attributes:\n",
    "\n",
    "objects are similar to the class is their datatype\n",
    "    variable can have multiple values\n",
    "    these are known as attributes or properties or traits\n",
    "\n",
    "        (blueprint)-list the attributes in the class defination\n",
    "       (house)-populate the attributes in each instance(object)\n",
    " \n"
   ]
  },
  {
   "cell_type": "code",
   "execution_count": 31,
   "metadata": {},
   "outputs": [
    {
     "ename": "ValueError",
     "evalue": "invalid literal for int() with base 10: ''",
     "output_type": "error",
     "traceback": [
      "\u001b[1;31m---------------------------------------------------------------------------\u001b[0m",
      "\u001b[1;31mValueError\u001b[0m                                Traceback (most recent call last)",
      "\u001b[1;32mc:\\Users\\shyam\\Desktop\\class\\python_internship_1_month_work\\python.ipynb Cell 49\u001b[0m in \u001b[0;36m1\n\u001b[0;32m     <a href='vscode-notebook-cell:/c%3A/Users/shyam/Desktop/class/python_internship_1_month_work/python.ipynb#X66sZmlsZQ%3D%3D?line=9'>10</a>\u001b[0m \u001b[39mfor\u001b[39;00m x \u001b[39min\u001b[39;00m \u001b[39mrange\u001b[39m(\u001b[39m0\u001b[39m,\u001b[39m4\u001b[39m):\n\u001b[0;32m     <a href='vscode-notebook-cell:/c%3A/Users/shyam/Desktop/class/python_internship_1_month_work/python.ipynb#X66sZmlsZQ%3D%3D?line=10'>11</a>\u001b[0m     c\u001b[39m=\u001b[39mcircle()\n\u001b[1;32m---> <a href='vscode-notebook-cell:/c%3A/Users/shyam/Desktop/class/python_internship_1_month_work/python.ipynb#X66sZmlsZQ%3D%3D?line=11'>12</a>\u001b[0m     c\u001b[39m.\u001b[39mradius\u001b[39m=\u001b[39m\u001b[39mint\u001b[39m(\u001b[39minput\u001b[39m(\u001b[39m\"\u001b[39m\u001b[39menter the radius of circle\u001b[39m\u001b[39m\"\u001b[39m))\n\u001b[0;32m     <a href='vscode-notebook-cell:/c%3A/Users/shyam/Desktop/class/python_internship_1_month_work/python.ipynb#X66sZmlsZQ%3D%3D?line=12'>13</a>\u001b[0m     circles\u001b[39m.\u001b[39mappend(c)\n\u001b[0;32m     <a href='vscode-notebook-cell:/c%3A/Users/shyam/Desktop/class/python_internship_1_month_work/python.ipynb#X66sZmlsZQ%3D%3D?line=14'>15</a>\u001b[0m \u001b[39mprint\u001b[39m(circles[\u001b[39m2\u001b[39m]\u001b[39m.\u001b[39mradius)\n",
      "\u001b[1;31mValueError\u001b[0m: invalid literal for int() with base 10: ''"
     ]
    }
   ],
   "source": [
    "class circle():\n",
    "    radius=20\n",
    "    x=0\n",
    "    y=0\n",
    "    color=\"\"\n",
    "    filled=False\n",
    "    \n",
    "circles=[]\n",
    "    \n",
    "for x in range(0,4):\n",
    "    c=circle()\n",
    "    c.radius=int(input(\"enter the radius of circle\"))\n",
    "    circles.append(c)\n",
    "\n",
    "print(circles[2].radius)    "
   ]
  },
  {
   "cell_type": "code",
   "execution_count": 32,
   "metadata": {},
   "outputs": [
    {
     "name": "stdout",
     "output_type": "stream",
     "text": [
      "Requirement already satisfied: circle-python in c:\\users\\shyam\\appdata\\local\\programs\\python\\python310\\lib\\site-packages (0.0.44)\n",
      "Requirement already satisfied: urllib3<2.0,>=1.26 in c:\\users\\shyam\\appdata\\local\\programs\\python\\python310\\lib\\site-packages (from circle-python) (1.26.12)\n",
      "Requirement already satisfied: aws-sns-message-validator2<0.0.2,>=0.0.1 in c:\\users\\shyam\\appdata\\local\\programs\\python\\python310\\lib\\site-packages (from circle-python) (0.0.1)\n",
      "Requirement already satisfied: requests>=2.20.0 in c:\\users\\shyam\\appdata\\local\\programs\\python\\python310\\lib\\site-packages (from circle-python) (2.28.1)\n",
      "Requirement already satisfied: cryptography<4.0,>=3.2 in c:\\users\\shyam\\appdata\\local\\programs\\python\\python310\\lib\\site-packages (from aws-sns-message-validator2<0.0.2,>=0.0.1->circle-python) (3.4.8)\n",
      "Requirement already satisfied: certifi>=2017.4.17 in c:\\users\\shyam\\appdata\\local\\programs\\python\\python310\\lib\\site-packages (from requests>=2.20.0->circle-python) (2022.9.24)\n",
      "Requirement already satisfied: idna<4,>=2.5 in c:\\users\\shyam\\appdata\\local\\programs\\python\\python310\\lib\\site-packages (from requests>=2.20.0->circle-python) (3.4)\n",
      "Requirement already satisfied: charset-normalizer<3,>=2 in c:\\users\\shyam\\appdata\\local\\programs\\python\\python310\\lib\\site-packages (from requests>=2.20.0->circle-python) (2.1.1)\n",
      "Requirement already satisfied: cffi>=1.12 in c:\\users\\shyam\\appdata\\local\\programs\\python\\python310\\lib\\site-packages (from cryptography<4.0,>=3.2->aws-sns-message-validator2<0.0.2,>=0.0.1->circle-python) (1.15.1)\n",
      "Requirement already satisfied: pycparser in c:\\users\\shyam\\appdata\\local\\programs\\python\\python310\\lib\\site-packages (from cffi>=1.12->cryptography<4.0,>=3.2->aws-sns-message-validator2<0.0.2,>=0.0.1->circle-python) (2.21)\n",
      "Note: you may need to restart the kernel to use updated packages.\n"
     ]
    },
    {
     "name": "stderr",
     "output_type": "stream",
     "text": [
      "\n",
      "[notice] A new release of pip available: 22.2.2 -> 23.1.2\n",
      "[notice] To update, run: c:\\Users\\shyam\\AppData\\Local\\Programs\\Python\\Python310\\python.exe -m pip install --upgrade pip\n"
     ]
    }
   ],
   "source": [
    "pip install circle-python"
   ]
  },
  {
   "cell_type": "code",
   "execution_count": 33,
   "metadata": {},
   "outputs": [
    {
     "ename": "TypeError",
     "evalue": "'module' object is not callable",
     "output_type": "error",
     "traceback": [
      "\u001b[1;31m---------------------------------------------------------------------------\u001b[0m",
      "\u001b[1;31mTypeError\u001b[0m                                 Traceback (most recent call last)",
      "\u001b[1;32mc:\\Users\\shyam\\Desktop\\class\\python_internship_1_month_work\\python.ipynb Cell 51\u001b[0m in \u001b[0;36m4\n\u001b[0;32m      <a href='vscode-notebook-cell:/c%3A/Users/shyam/Desktop/class/python_internship_1_month_work/python.ipynb#Y101sZmlsZQ%3D%3D?line=0'>1</a>\u001b[0m \u001b[39m#attributes to draw circle\u001b[39;00m\n\u001b[0;32m      <a href='vscode-notebook-cell:/c%3A/Users/shyam/Desktop/class/python_internship_1_month_work/python.ipynb#Y101sZmlsZQ%3D%3D?line=1'>2</a>\u001b[0m \u001b[39m#import circle  #module\u001b[39;00m\n\u001b[0;32m      <a href='vscode-notebook-cell:/c%3A/Users/shyam/Desktop/class/python_internship_1_month_work/python.ipynb#Y101sZmlsZQ%3D%3D?line=2'>3</a>\u001b[0m \u001b[39mfrom\u001b[39;00m \u001b[39mcircle\u001b[39;00m \u001b[39mimport\u001b[39;00m circle\n\u001b[1;32m----> <a href='vscode-notebook-cell:/c%3A/Users/shyam/Desktop/class/python_internship_1_month_work/python.ipynb#Y101sZmlsZQ%3D%3D?line=3'>4</a>\u001b[0m c1\u001b[39m=\u001b[39mcircle()   \u001b[39m#module.classname\u001b[39;00m\n\u001b[0;32m      <a href='vscode-notebook-cell:/c%3A/Users/shyam/Desktop/class/python_internship_1_month_work/python.ipynb#Y101sZmlsZQ%3D%3D?line=4'>5</a>\u001b[0m circledict\u001b[39m=\u001b[39m{   \u001b[39m\"\u001b[39m\u001b[39mradius\u001b[39m\u001b[39m\"\u001b[39m:\u001b[39m20\u001b[39m,\u001b[39m\"\u001b[39m\u001b[39mx\u001b[39m\u001b[39m\"\u001b[39m:\u001b[39m0\u001b[39m,\u001b[39m\"\u001b[39m\u001b[39my\u001b[39m\u001b[39m\"\u001b[39m:\u001b[39m0\u001b[39m,\u001b[39m\"\u001b[39m\u001b[39mcolor\u001b[39m\u001b[39m\"\u001b[39m:\u001b[39m\"\u001b[39m\u001b[39mWhite\u001b[39m\u001b[39m\"\u001b[39m,\u001b[39m\"\u001b[39m\u001b[39mfilled\u001b[39m\u001b[39m\"\u001b[39m:\u001b[39mFalse\u001b[39;00m\n\u001b[0;32m      <a href='vscode-notebook-cell:/c%3A/Users/shyam/Desktop/class/python_internship_1_month_work/python.ipynb#Y101sZmlsZQ%3D%3D?line=5'>6</a>\u001b[0m     \n\u001b[0;32m      <a href='vscode-notebook-cell:/c%3A/Users/shyam/Desktop/class/python_internship_1_month_work/python.ipynb#Y101sZmlsZQ%3D%3D?line=6'>7</a>\u001b[0m     \n\u001b[0;32m      <a href='vscode-notebook-cell:/c%3A/Users/shyam/Desktop/class/python_internship_1_month_work/python.ipynb#Y101sZmlsZQ%3D%3D?line=7'>8</a>\u001b[0m }\n\u001b[0;32m     <a href='vscode-notebook-cell:/c%3A/Users/shyam/Desktop/class/python_internship_1_month_work/python.ipynb#Y101sZmlsZQ%3D%3D?line=9'>10</a>\u001b[0m \u001b[39mprint\u001b[39m(c1\u001b[39m.\u001b[39mradius)\n",
      "\u001b[1;31mTypeError\u001b[0m: 'module' object is not callable"
     ]
    }
   ],
   "source": [
    "#attributes to draw circle\n",
    "#import circle  #module\n",
    "from circle import circle\n",
    "c1=circle()   #module.classname\n",
    "circledict={   \"radius\":20,\"x\":0,\"y\":0,\"color\":\"White\",\"filled\":False\n",
    "    \n",
    "    \n",
    "}\n",
    "\n",
    "print(c1.radius)\n",
    "print(circledict[\"radius\"])"
   ]
  },
  {
   "cell_type": "code",
   "execution_count": null,
   "metadata": {},
   "outputs": [],
   "source": []
  },
  {
   "attachments": {},
   "cell_type": "markdown",
   "metadata": {},
   "source": [
    "# **oop in python*"
   ]
  },
  {
   "cell_type": "code",
   "execution_count": null,
   "metadata": {},
   "outputs": [
    {
     "name": "stdout",
     "output_type": "stream",
     "text": [
      "hello i am making a call\n",
      "hello i am playing games\n"
     ]
    }
   ],
   "source": [
    "class phone:                                      #defining a class with its name\n",
    "    def make_call(self):                            #giving parameters and function to be done in a class\n",
    "        print(\"hello i am making a call\")\n",
    "    def play_game(self):\n",
    "        print(\"hello i am playing games\")\n",
    "        \n",
    "p1=phone()                                  #creating objects of a class    there can be n no of objects of a class\n",
    "p1.make_call()      #using objects of a class to do function of a class \n",
    "p1.play_game()      #invoking the class wiythe the object of the class using adoot operator"
   ]
  },
  {
   "cell_type": "code",
   "execution_count": null,
   "metadata": {},
   "outputs": [
    {
     "name": "stdout",
     "output_type": "stream",
     "text": [
      "seted color : white\n",
      "seted cost :  100\n",
      "white\n",
      "100\n",
      "make call\n",
      "play game\n"
     ]
    }
   ],
   "source": [
    "class phone:\n",
    "    def set_color(self,color):        #providing value of color in self , color to the color attribute next to it\n",
    "        self.color=color\n",
    "        print(\"seted color :\",color)\n",
    "    def set_cost(self,cost):\n",
    "        self.cost=cost\n",
    "        print(\"seted cost : \",cost)\n",
    "    def show_color(self):\n",
    "        print(self.color)\n",
    "    def show_cost(self):\n",
    "        print(self.cost)  \n",
    "    def make_call(self):\n",
    "        print(\"make call\")\n",
    "    def play_game(self):\n",
    "        print(\"play game\")   \n",
    "        \n",
    "p2=phone()\n",
    "p2.set_color(\"white\")\n",
    "p2.set_cost(100)\n",
    "p2.show_color() \n",
    "p2.show_cost()\n",
    "p2.make_call()\n",
    "p2.play_game()\n",
    "   "
   ]
  },
  {
   "cell_type": "code",
   "execution_count": null,
   "metadata": {},
   "outputs": [
    {
     "name": "stdout",
     "output_type": "stream",
     "text": [
      "assigned mame  shyam\n",
      "assigned age  23\n",
      "assigned gender  M\n",
      "shyam\n",
      "23\n",
      "M\n"
     ]
    }
   ],
   "source": [
    "#conctructor\n",
    "class employe:\n",
    "    def feed_detail(self,name,age,gender):\n",
    "        self.name=name\n",
    "        print(\"assigned mame \",name)\n",
    "        self.age=age\n",
    "        print(\"assigned age \",age)\n",
    "        self.gender=gender\n",
    "        print(\"assigned gender \",gender)\n",
    "    def print_details(self):\n",
    "        print(self.name)\n",
    "        print(self.age)\n",
    "        print(self.gender)\n",
    "p3=employe()\n",
    "p3.feed_detail(\"shyam\",23,\"M\")     #constructor\n",
    "p3.print_details()\n",
    "                \n",
    "        "
   ]
  },
  {
   "cell_type": "code",
   "execution_count": null,
   "metadata": {},
   "outputs": [
    {
     "name": "stdout",
     "output_type": "stream",
     "text": [
      "assigned mame  shyam\n",
      "assigned age  23\n",
      "assigned gender  M\n",
      "shyam\n",
      "23\n",
      "M\n"
     ]
    }
   ],
   "source": [
    "#instance of object\n",
    "#adding value to variables in time of creating an object\n",
    "class employe:\n",
    "    def __init__(self,name,age,gender):\n",
    "        self.name=name\n",
    "        print(\"assigned mame \",name)\n",
    "        self.age=age\n",
    "        print(\"assigned age \",age)\n",
    "        self.gender=gender\n",
    "        print(\"assigned gender \",gender)\n",
    "    def print_details(self):\n",
    "        print(self.name)\n",
    "        print(self.age)\n",
    "        print(self.gender)\n",
    "p4=employe(\"shyam\",23,\"M\")\n",
    "p4.print_details()\n"
   ]
  },
  {
   "cell_type": "code",
   "execution_count": null,
   "metadata": {},
   "outputs": [
    {
     "name": "stdout",
     "output_type": "stream",
     "text": [
      "assigned cost 1230000\n",
      "assigned year 12/1/2010\n",
      "cost :  1230000\n",
      "year :  12/1/2010\n"
     ]
    }
   ],
   "source": [
    "#inheritance\n",
    "class vehicle:\n",
    "    def __init__(self,cost,year):\n",
    "        self.cost=cost\n",
    "        self.year=year\n",
    "        print(\"assigned cost\",cost)\n",
    "        print(\"assigned year\",year)\n",
    "    def show_data(self):\n",
    "        print(\"cost : \",self.cost)\n",
    "        print(\"year : \",self.year)\n",
    "v1=vehicle(1230000,\"12/1/2010\")\n",
    "v1.show_data()\n"
   ]
  },
  {
   "cell_type": "code",
   "execution_count": null,
   "metadata": {},
   "outputs": [
    {
     "name": "stdout",
     "output_type": "stream",
     "text": [
      "assigned cost 200000\n",
      "assigned year 12/12/2012\n",
      "cost :  200000\n",
      "year :  12/12/2012\n",
      "cost :  200000\n",
      "year :  12/12/2012\n",
      "i am a car\n"
     ]
    }
   ],
   "source": [
    "\n",
    "class car(vehicle): \n",
    "    def show_details(self):\n",
    "       print(\"cost : \",self.cost)\n",
    "       print(\"year : \",self.year)\n",
    "       print(\"i am a car\")\n",
    "c1=car(200000,\"12/12/2012\")\n",
    "c1.show_data()\n",
    "c1.show_details()"
   ]
  },
  {
   "cell_type": "code",
   "execution_count": null,
   "metadata": {},
   "outputs": [
    {
     "name": "stdout",
     "output_type": "stream",
     "text": [
      "assigned cost 1230000\n",
      "assigned year 12/1/2010\n",
      "cost :  1230000\n",
      "year :  12/1/2010\n"
     ]
    }
   ],
   "source": [
    "#OVER RIDING A CONSTRUCTOR\n",
    "#inheritance\n",
    "class vehicle:\n",
    "    def __init__(self,cost,year):\n",
    "        self.cost=cost\n",
    "        self.year=year\n",
    "        print(\"assigned cost\",cost)\n",
    "        print(\"assigned year\",year)\n",
    "    def show_data(self):\n",
    "        print(\"cost : \",self.cost)\n",
    "        print(\"year : \",self.year)\n",
    "v1=vehicle(1230000,\"12/1/2010\")\n",
    "v1.show_data()\n"
   ]
  },
  {
   "cell_type": "code",
   "execution_count": null,
   "metadata": {},
   "outputs": [
    {
     "name": "stdout",
     "output_type": "stream",
     "text": [
      "assigned cost 200000\n",
      "assigned year 12/12/2012\n",
      "cost :  200000\n",
      "year :  12/12/2012\n",
      "cost :  200000\n",
      "year :  12/12/2012\n",
      "milage :  300\n",
      "i am a car\n"
     ]
    }
   ],
   "source": [
    "\n",
    "class car(vehicle): \n",
    "    def __init__(self, cost, year,milage):\n",
    "        super().__init__(cost, year)     #it inditate it is the parent class , to distinguish between parent and child class we use the super method\n",
    "        self.milage=milage\n",
    "    def show_details(self):\n",
    "       print(\"cost : \",self.cost)\n",
    "       print(\"year : \",self.year)\n",
    "       print(\"milage : \",self.milage)\n",
    "       print(\"i am a car\")\n",
    "c1=car(200000,\"12/12/2012\",300)\n",
    "c1.show_data()\n",
    "c1.show_details()"
   ]
  },
  {
   "attachments": {},
   "cell_type": "markdown",
   "metadata": {},
   "source": [
    "# **Day 13**"
   ]
  },
  {
   "attachments": {},
   "cell_type": "markdown",
   "metadata": {},
   "source": [
    "understanding methods"
   ]
  },
  {
   "attachments": {},
   "cell_type": "markdown",
   "metadata": {},
   "source": [
    "objects are not only havin the properties , they also have the behaviour\n",
    "\n",
    "ther are defined by the function in a class \n",
    "they are reffered as a methods\n"
   ]
  },
  {
   "cell_type": "code",
   "execution_count": 34,
   "metadata": {},
   "outputs": [
    {
     "name": "stdout",
     "output_type": "stream",
     "text": [
      "5\n"
     ]
    }
   ],
   "source": [
    "class Circle():\n",
    "    radius=0\n",
    "    x=0\n",
    "    y=0\n",
    "    color=\"\"\n",
    "    filled=False\n",
    "\n",
    "c1=Circle()\n",
    "\n",
    "c1.radius=7.2\n",
    "c1.x=5\n",
    "c1.y=8\n",
    "c1.color=\"Red\"\n",
    "c1.filled=True\n",
    "\n",
    "print(c1.x)"
   ]
  },
  {
   "cell_type": "code",
   "execution_count": 35,
   "metadata": {},
   "outputs": [],
   "source": [
    "pi=3.14\n",
    "class Coords():\n",
    "    x=0\n",
    "    y=0\n",
    "\n",
    "class Circle():\n",
    "    \n",
    "    radius=0\n",
    "    coords=Coords()\n",
    "    color=\"white\"\n",
    "    filled=False\n",
    "    position=[]\n",
    "\n",
    "    \n",
    "    def T(self,radius1):\n",
    "        self.radius=radius1\n",
    "        print(self.radius)\n",
    "            \n",
    "    def area(self):\n",
    "        print(pi*self.radius**2)\n",
    "    \n",
    "    def circumferance(self):\n",
    "        print(self.radius*pi*2)\n",
    "    def circumferance1(self):\n",
    "        a=int(input(\"enter r or circle\"))\n",
    "        self.radius=a\n",
    "        print(self.radius*pi*2)    \n",
    "\n",
    "\n",
    "c1=Circle()"
   ]
  },
  {
   "cell_type": "code",
   "execution_count": 36,
   "metadata": {},
   "outputs": [
    {
     "name": "stdout",
     "output_type": "stream",
     "text": [
      "1\n",
      "3.14\n",
      "6.28\n"
     ]
    }
   ],
   "source": [
    "c1.T(1)\n",
    "c1.area()\n",
    "c1.circumferance()\n"
   ]
  },
  {
   "cell_type": "code",
   "execution_count": 37,
   "metadata": {},
   "outputs": [
    {
     "name": "stdout",
     "output_type": "stream",
     "text": [
      "1.3\n",
      "white\n",
      "8.164000000000001\n"
     ]
    }
   ],
   "source": [
    "c1.radius=1.3\n",
    "print(c1.radius)\n",
    "print(c1.color)\n",
    "c1.circumferance()"
   ]
  },
  {
   "cell_type": "code",
   "execution_count": 39,
   "metadata": {},
   "outputs": [
    {
     "name": "stdout",
     "output_type": "stream",
     "text": [
      "37.68\n"
     ]
    }
   ],
   "source": [
    "from Circle import circumferance\n",
    "c1.circumferance1()"
   ]
  },
  {
   "attachments": {},
   "cell_type": "markdown",
   "metadata": {},
   "source": [
    "# **Day 14**\n"
   ]
  },
  {
   "cell_type": "code",
   "execution_count": 69,
   "metadata": {},
   "outputs": [
    {
     "name": "stdout",
     "output_type": "stream",
     "text": [
      "Requirement already satisfied: pygame in c:\\users\\shyam\\appdata\\local\\programs\\python\\python310\\lib\\site-packages (2.5.0)\n",
      "Note: you may need to restart the kernel to use updated packages.\n"
     ]
    },
    {
     "name": "stderr",
     "output_type": "stream",
     "text": [
      "\n",
      "[notice] A new release of pip available: 22.2.2 -> 23.1.2\n",
      "[notice] To update, run: c:\\Users\\shyam\\AppData\\Local\\Programs\\Python\\Python310\\python.exe -m pip install --upgrade pip\n"
     ]
    }
   ],
   "source": [
    "pip install pygame"
   ]
  },
  {
   "cell_type": "code",
   "execution_count": 70,
   "metadata": {},
   "outputs": [],
   "source": [
    "import pygame"
   ]
  },
  {
   "cell_type": "code",
   "execution_count": 71,
   "metadata": {},
   "outputs": [],
   "source": [
    "class Circle():\n",
    "    radius=0\n",
    "    x=0\n",
    "    y=0\n",
    "    color=\"\"\n",
    "    filled=False"
   ]
  },
  {
   "cell_type": "code",
   "execution_count": 72,
   "metadata": {},
   "outputs": [],
   "source": [
    "import Circle as c "
   ]
  },
  {
   "cell_type": "code",
   "execution_count": 95,
   "metadata": {},
   "outputs": [],
   "source": [
    "class drawCircles():\n",
    "    \n",
    "    colors={\"white\":(255,255,255),\n",
    "        \"blue\":(0,0,255),\n",
    "        \"red\":(255,0,0),\n",
    "        \"green\":(0,255,0)}\n",
    "\n",
    "    (widht,height)=(100,100)\n",
    "\n",
    "\n",
    "    def setup():\n",
    "        global screen\n",
    "        pygame.init()\n",
    "        screen=pygame.display.set_mode((widht,height))\n",
    "        pygame.display.set_caption(\"Finkel Circle\")\n",
    "        pygame.display.update()\n",
    "        \n",
    "    def drawCircle(self,c):\n",
    "        self.c=c\n",
    "        pygame.draw.circle(screen,\n",
    "                    colors[self.c.color],\n",
    "                    (self.c.coords.x,self.c.Coords.y),\n",
    "                    self.c.radius,\n",
    "                    not self.c.filled)"
   ]
  },
  {
   "cell_type": "code",
   "execution_count": 104,
   "metadata": {},
   "outputs": [
    {
     "ename": "ModuleNotFoundError",
     "evalue": "No module named 'drawCircles'",
     "output_type": "error",
     "traceback": [
      "\u001b[1;31m---------------------------------------------------------------------------\u001b[0m",
      "\u001b[1;31mModuleNotFoundError\u001b[0m                       Traceback (most recent call last)",
      "\u001b[1;32mc:\\Users\\shyam\\Desktop\\class\\python_internship_1_month_work\\python.ipynb Cell 76\u001b[0m in \u001b[0;36m1\n\u001b[1;32m----> <a href='vscode-notebook-cell:/c%3A/Users/shyam/Desktop/class/python_internship_1_month_work/python.ipynb#Y152sZmlsZQ%3D%3D?line=0'>1</a>\u001b[0m \u001b[39mimport\u001b[39;00m \u001b[39mdrawCircles\u001b[39;00m\n",
      "\u001b[1;31mModuleNotFoundError\u001b[0m: No module named 'drawCircles'"
     ]
    }
   ],
   "source": [
    "import drawCircles"
   ]
  },
  {
   "cell_type": "code",
   "execution_count": 100,
   "metadata": {},
   "outputs": [],
   "source": [
    "d=drawCircles()"
   ]
  },
  {
   "cell_type": "code",
   "execution_count": 105,
   "metadata": {},
   "outputs": [],
   "source": [
    "running =True\n"
   ]
  },
  {
   "cell_type": "code",
   "execution_count": 107,
   "metadata": {},
   "outputs": [
    {
     "ename": "TypeError",
     "evalue": "drawCircles.setup() takes 0 positional arguments but 1 was given",
     "output_type": "error",
     "traceback": [
      "\u001b[1;31m---------------------------------------------------------------------------\u001b[0m",
      "\u001b[1;31mTypeError\u001b[0m                                 Traceback (most recent call last)",
      "\u001b[1;32mc:\\Users\\shyam\\Desktop\\class\\python_internship_1_month_work\\python.ipynb Cell 79\u001b[0m in \u001b[0;36m1\n\u001b[1;32m----> <a href='vscode-notebook-cell:/c%3A/Users/shyam/Desktop/class/python_internship_1_month_work/python.ipynb#Y154sZmlsZQ%3D%3D?line=0'>1</a>\u001b[0m d\u001b[39m.\u001b[39msetup()\n",
      "\u001b[1;31mTypeError\u001b[0m: drawCircles.setup() takes 0 positional arguments but 1 was given"
     ]
    }
   ],
   "source": [
    "d.setup()\n"
   ]
  },
  {
   "cell_type": "code",
   "execution_count": 108,
   "metadata": {},
   "outputs": [
    {
     "ename": "error",
     "evalue": "video system not initialized",
     "output_type": "error",
     "traceback": [
      "\u001b[1;31m---------------------------------------------------------------------------\u001b[0m",
      "\u001b[1;31merror\u001b[0m                                     Traceback (most recent call last)",
      "\u001b[1;32mc:\\Users\\shyam\\Desktop\\class\\python_internship_1_month_work\\python.ipynb Cell 80\u001b[0m in \u001b[0;36m2\n\u001b[0;32m      <a href='vscode-notebook-cell:/c%3A/Users/shyam/Desktop/class/python_internship_1_month_work/python.ipynb#Y141sZmlsZQ%3D%3D?line=0'>1</a>\u001b[0m \u001b[39mwhile\u001b[39;00m running:\n\u001b[1;32m----> <a href='vscode-notebook-cell:/c%3A/Users/shyam/Desktop/class/python_internship_1_month_work/python.ipynb#Y141sZmlsZQ%3D%3D?line=1'>2</a>\u001b[0m     ev\u001b[39m=\u001b[39mpygame\u001b[39m.\u001b[39mevent\u001b[39m.\u001b[39mget()\n\u001b[0;32m      <a href='vscode-notebook-cell:/c%3A/Users/shyam/Desktop/class/python_internship_1_month_work/python.ipynb#Y141sZmlsZQ%3D%3D?line=3'>4</a>\u001b[0m     \u001b[39mfor\u001b[39;00m event \u001b[39min\u001b[39;00m ev:\n\u001b[0;32m      <a href='vscode-notebook-cell:/c%3A/Users/shyam/Desktop/class/python_internship_1_month_work/python.ipynb#Y141sZmlsZQ%3D%3D?line=5'>6</a>\u001b[0m         \u001b[39mif\u001b[39;00m event\u001b[39m.\u001b[39mtype \u001b[39m==\u001b[39m pygame\u001b[39m.\u001b[39mMOUSEBUTTONUP:\n",
      "\u001b[1;31merror\u001b[0m: video system not initialized"
     ]
    }
   ],
   "source": [
    "running =True\n",
    "d.setup()\n",
    "while running:\n",
    "    ev=pygame.event.get()\n",
    "    \n",
    "    for event in ev:\n",
    "        \n",
    "        if event.type == pygame.MOUSEBUTTONUP:\n",
    "            \n",
    "            \n",
    "            pos=pygame.mouse.get_pos()\n",
    "            \n",
    "           # c1=c.Circle()\n",
    "            c1.radius=25\n",
    "            c1.coords.x=pos[0]\n",
    "            c1.coords.y=pos[1]\n",
    "            c1.color=\"white\"\n",
    "            c1.filled=False\n",
    "            \n",
    "            d.drawCircle(c1)\n",
    "            pygame.display.update()\n",
    "            "
   ]
  },
  {
   "cell_type": "markdown",
   "metadata": {},
   "source": [
    "# **Day16**"
   ]
  },
  {
   "cell_type": "code",
   "execution_count": null,
   "metadata": {},
   "outputs": [],
   "source": [
    "#public and private memners:\n",
    "# oop allows for some attributes and methos=d to be private or protected\n",
    "# private members can only be acsessed from within the class code\n",
    "# protected  member can only be accessed from within the class code or within inhirited cllass code\n",
    "\n",
    "# python does not support private member\n",
    "\n"
   ]
  },
  {
   "cell_type": "code",
   "execution_count": 38,
   "metadata": {},
   "outputs": [],
   "source": [
    "class  circle():\n",
    "    pi=3.14\n",
    "    radius=1.0\n",
    "    color=\"\"\n",
    "    #coords=coords()\n",
    "    filled=False\n",
    "    position=[]\n",
    "\n",
    "    def circumferance(self):\n",
    "        self.myfunc()\n",
    "        return self.radius*circle.pi*2\n",
    "\n",
    "    def myfunc(self):\n",
    "        print(f\"My function was invoked - radius - {self.radius} \")    \n",
    "        \n"
   ]
  },
  {
   "cell_type": "code",
   "execution_count": 40,
   "metadata": {},
   "outputs": [
    {
     "name": "stdout",
     "output_type": "stream",
     "text": [
      "My function was invoked - radius - 1.0 \n",
      "6.28\n"
     ]
    }
   ],
   "source": [
    "c1=circle()\n",
    "\n",
    "print(c1.circumferance())#cannot cal this function"
   ]
  },
  {
   "cell_type": "markdown",
   "metadata": {},
   "source": [
    "# **Constyructor**\n"
   ]
  },
  {
   "cell_type": "code",
   "execution_count": null,
   "metadata": {},
   "outputs": [],
   "source": []
  },
  {
   "cell_type": "code",
   "execution_count": 1,
   "metadata": {},
   "outputs": [],
   "source": [
    "from tkinter import*\n",
    "import math,random,os\n",
    "from tkinter import messagebox\n",
    "class Bill_App:\n",
    "    def __init__(self,root):\n",
    "        self.root=root\n",
    "        self.root.geometry(\"1350x700+0+0\")\n",
    "        self.root.title(\"Entry DataBase\")\n",
    "        bg_color=\"#074463\"\n",
    "        title=Label(self.root,text=\"Entry DataBase\",bd=12,relief=GROOVE,bg=bg_color,fg=\"white\",font=(\"times new roman\",30,\"bold\"),pady=2).pack(fill=X)\n",
    "        #==========variable==========\n",
    "        #==========grocery==========\n",
    "        self.soap=IntVar()\n",
    "        self.face_cream=IntVar()\n",
    "        self.face_wash=IntVar()\n",
    "        self.spray=IntVar()\n",
    "        self.gel=IntVar()\n",
    "        self.lotion=IntVar()\n",
    "        #===========grocery==========\n",
    "        self.rice=IntVar()\n",
    "        self.food_oil=IntVar()\n",
    "        self.pulse=IntVar()\n",
    "        self.wheat=IntVar()\n",
    "        self.sugar=IntVar()\n",
    "        self.tea=IntVar()\n",
    "        #===========cold drink=========\n",
    "        self.maaza=IntVar()\n",
    "        self.coke=IntVar()\n",
    "        self.frooti=IntVar()\n",
    "        self.thumbsup=IntVar()\n",
    "        self.limca=IntVar()\n",
    "        self.sprite=IntVar()\n",
    "\n",
    "        #======Total product Price & Tax Variable====\n",
    "        self.cosmetics_price=StringVar()\n",
    "        self.grocery_price=StringVar()\n",
    "        self.cold_drink_price=StringVar()\n",
    "\n",
    "        self.cosmetics_tax=StringVar()\n",
    "        self.grocery_tax=StringVar()\n",
    "        self.cold_drink_tax=StringVar()\n",
    "\n",
    "        #===========Customer=======\n",
    "        self.c_name=StringVar()\n",
    "        self.c_phon=StringVar()\n",
    "        self.bill_no=StringVar()\n",
    "        x=random.randint(1000,9999)\n",
    "        self.bill_no.set(str(x))\n",
    "        self.search_bill=StringVar()\n",
    "\n",
    "\n",
    "\n",
    "        #=========================Customer Detail Frame\n",
    "        F1=LabelFrame(self.root,bd=10,relief=GROOVE,text=\"Customer Details\",font=(\"times new roman\",15,\"bold\"),fg=\"gold\",bg=bg_color)\n",
    "        F1.place(x=0,y=80,relwidth=1)\n",
    "\n",
    "        cname_lbl=Label(F1,text=\"Customer Name\",bg=bg_color,fg=\"white\",font=(\"times new roman\",18,\"bold\")).grid(row=0,column=0,padx=20,pady=5)\n",
    "        cname_text=Entry(F1,width=15,textvariable=self.c_name,font=\"arial 15\",bd=7,relief=SUNKEN).grid(row=0,column=1,pady=5,padx=10)\n",
    "\n",
    "        cphn_lbl=Label(F1,text=\"Phone No.\",bg=bg_color,fg=\"white\",font=(\"times new roman\",18,\"bold\")).grid(row=0,column=2,padx=20,pady=5)\n",
    "        cphn_text=Entry(F1,width=15,textvariable=self.c_phon,font=\"arial 15\",bd=7,relief=SUNKEN).grid(row=0,column=3,pady=5,padx=10)\n",
    "\n",
    "        c_bill_lbl=Label(F1,text=\"Bill Number\",bg=bg_color,fg=\"white\",font=(\"times new roman\",18,\"bold\")).grid(row=0,column=4,padx=20,pady=5)\n",
    "        c_bill_text=Entry(F1,width=15,textvariable=self.search_bill,font=\"arial 15\",bd=7,relief=SUNKEN).grid(row=0,column=5,pady=5,padx=10)\n",
    "\n",
    "        bill_btn=Button(F1,text=\"Search\",command=self.find_bill,width=10,bd=7,font=\"arial 12 bold\").grid(row=0,column=6,padx=10,pady=10)\n",
    "\n",
    "        #============Cosmetics Frame===============\n",
    "        F2=LabelFrame(self.root,bd=10,relief=GROOVE,text=\"Cosmetics\",font=(\"times new roman\",15,\"bold\"),fg=\"gold\",bg=bg_color)\n",
    "        F2.place(x=5,y=180,width=325,height=400)\n",
    "\n",
    "        bath_libl=Label(F2,text='Bath Soap',font=(\"times new roman\",16,\"bold\"),bg=bg_color,fg=\"light green\").grid(row=0,column=0,padx=10,pady=10,sticky=\"w\")\n",
    "        bath_txt=Entry(F2,width=10,textvariable=self.soap,font=(\"times new roman\",16,\"bold\"),bd=5,relief=SUNKEN).grid(row=0,column=1,padx=10,pady=10)\n",
    "\n",
    "        face_cream_libl=Label(F2,text='Face cream',font=(\"times new roman\",16,\"bold\"),bg=bg_color,fg=\"light green\").grid(row=1,column=0,padx=10,pady=10,sticky=\"w\")\n",
    "        face_cream_txt=Entry(F2,width=10,textvariable=self.face_cream,font=(\"times new roman\",16,\"bold\"),bd=5,relief=SUNKEN).grid(row=1,column=1,padx=10,pady=10)\n",
    "\n",
    "        face_w_libl=Label(F2,text='face wash',font=(\"times new roman\",16,\"bold\"),bg=bg_color,fg=\"light green\").grid(row=2,column=0,padx=10,pady=10,sticky=\"w\")\n",
    "        face_w_txt=Entry(F2,width=10,textvariable=self.face_wash,font=(\"times new roman\",16,\"bold\"),bd=5,relief=SUNKEN).grid(row=2,column=1,padx=10,pady=10)\n",
    "\n",
    "        hair_s_libl=Label(F2,text='hair spray',font=(\"times new roman\",16,\"bold\"),bg=bg_color,fg=\"light green\").grid(row=3,column=0,padx=10,pady=10,sticky=\"w\")\n",
    "        hair_s_txt=Entry(F2,width=10,textvariable=self.spray,font=(\"times new roman\",16,\"bold\"),bd=5,relief=SUNKEN).grid(row=3,column=1,padx=10,pady=10)\n",
    "\n",
    "        hair_g_libl=Label(F2,text='hair gel',font=(\"times new roman\",16,\"bold\"),bg=bg_color,fg=\"light green\").grid(row=4,column=0,padx=10,pady=10,sticky=\"w\")\n",
    "        hair_g_txt=Entry(F2,width=10,textvariable=self.gel,font=(\"times new roman\",16,\"bold\"),bd=5,relief=SUNKEN).grid(row=4,column=1,padx=10,pady=10)\n",
    "\n",
    "        body_libl=Label(F2,text='Body lotion',font=(\"times new roman\",16,\"bold\"),bg=bg_color,fg=\"light green\").grid(row=5,column=0,padx=10,pady=10,sticky=\"w\")\n",
    "        body_txt=Entry(F2,width=10,textvariable=self.lotion,font=(\"times new roman\",16,\"bold\"),bd=5,relief=SUNKEN).grid(row=5,column=1,padx=10,pady=10)\n",
    "\n",
    "        #============Grocery Frame===============\n",
    "        F3=LabelFrame(self.root,bd=10,relief=GROOVE,text=\"Groceries\",font=(\"times new roman\",15,\"bold\"),fg=\"gold\",bg=bg_color)\n",
    "        F3.place(x=340,y=180,width=325,height=400)\n",
    "\n",
    "        g1_libl=Label(F3,text='rice',font=(\"times new roman\",16,\"bold\"),bg=bg_color,fg=\"light green\").grid(row=0,column=0,padx=10,pady=10,sticky=\"w\")\n",
    "        g1_txt=Entry(F3,width=10,textvariable=self.rice,font=(\"times new roman\",16,\"bold\"),bd=5,relief=SUNKEN).grid(row=0,column=1,padx=10,pady=10)\n",
    "\n",
    "        g2_libl=Label(F3,text='Food oil',font=(\"times new roman\",16,\"bold\"),bg=bg_color,fg=\"light green\").grid(row=1,column=0,padx=10,pady=10,sticky=\"w\")\n",
    "        g2_txt=Entry(F3,width=10,textvariable=self.food_oil,font=(\"times new roman\",16,\"bold\"),bd=5,relief=SUNKEN).grid(row=1,column=1,padx=10,pady=10)\n",
    "\n",
    "        g3_libl=Label(F3,text='pulse',font=(\"times new roman\",16,\"bold\"),bg=bg_color,fg=\"light green\").grid(row=2,column=0,padx=10,pady=10,sticky=\"w\")\n",
    "        g3_txt=Entry(F3,width=10,textvariable=self.pulse,font=(\"times new roman\",16,\"bold\"),bd=5,relief=SUNKEN).grid(row=2,column=1,padx=10,pady=10)\n",
    "\n",
    "        g4_libl=Label(F3,text='wheat',font=(\"times new roman\",16,\"bold\"),bg=bg_color,fg=\"light green\").grid(row=3,column=0,padx=10,pady=10,sticky=\"w\")\n",
    "        g4_txt=Entry(F3,width=10,textvariable=self.wheat,font=(\"times new roman\",16,\"bold\"),bd=5,relief=SUNKEN).grid(row=3,column=1,padx=10,pady=10)\n",
    "\n",
    "        g5_libl=Label(F3,text='sugar',font=(\"times new roman\",16,\"bold\"),bg=bg_color,fg=\"light green\").grid(row=4,column=0,padx=10,pady=10,sticky=\"w\")\n",
    "        g5_txt=Entry(F3,width=10,textvariable=self.sugar,font=(\"times new roman\",16,\"bold\"),bd=5,relief=SUNKEN).grid(row=4,column=1,padx=10,pady=10)\n",
    "\n",
    "        g6_libl=Label(F3,text='tea',font=(\"times new roman\",16,\"bold\"),bg=bg_color,fg=\"light green\").grid(row=5,column=0,padx=10,pady=10,sticky=\"w\")\n",
    "        g6_txt=Entry(F3,width=10,textvariable=self.tea,font=(\"times new roman\",16,\"bold\"),bd=5,relief=SUNKEN).grid(row=5,column=1,padx=10,pady=10)\n",
    "\n",
    "        #============Cold drink Frame===============\n",
    "        F4=LabelFrame(self.root,bd=10,relief=GROOVE,text=\"Cold Drinks\",font=(\"times new roman\",15,\"bold\"),fg=\"gold\",bg=bg_color)\n",
    "        F4.place(x=670,y=180,width=325,height=400)\n",
    "\n",
    "        c1_libl=Label(F4,text='Maaza',font=(\"times new roman\",16,\"bold\"),bg=bg_color,fg=\"light green\").grid(row=0,column=0,padx=10,pady=10,sticky=\"w\")\n",
    "        c1_txt=Entry(F4,width=10,textvariable=self.maaza,font=(\"times new roman\",16,\"bold\"),bd=5,relief=SUNKEN).grid(row=0,column=1,padx=10,pady=10)\n",
    "\n",
    "        c2_libl=Label(F4,text='Coke',font=(\"times new roman\",16,\"bold\"),bg=bg_color,fg=\"light green\").grid(row=1,column=0,padx=10,pady=10,sticky=\"w\")\n",
    "        c2_txt=Entry(F4,width=10,textvariable=self.coke,font=(\"times new roman\",16,\"bold\"),bd=5,relief=SUNKEN).grid(row=1,column=1,padx=10,pady=10)\n",
    "\n",
    "        c3_libl=Label(F4,text='Frooti',font=(\"times new roman\",16,\"bold\"),bg=bg_color,fg=\"light green\").grid(row=2,column=0,padx=10,pady=10,sticky=\"w\")\n",
    "        c3_txt=Entry(F4,width=10,textvariable=self.frooti,font=(\"times new roman\",16,\"bold\"),bd=5,relief=SUNKEN).grid(row=2,column=1,padx=10,pady=10)\n",
    "\n",
    "        c4_libl=Label(F4,text='Thumbs Up',font=(\"times new roman\",16,\"bold\"),bg=bg_color,fg=\"light green\").grid(row=3,column=0,padx=10,pady=10,sticky=\"w\")\n",
    "        c4_txt=Entry(F4,width=10,textvariable=self.thumbsup,font=(\"times new roman\",16,\"bold\"),bd=5,relief=SUNKEN).grid(row=3,column=1,padx=10,pady=10)\n",
    "\n",
    "        c5_libl=Label(F4,text='Limca',font=(\"times new roman\",16,\"bold\"),bg=bg_color,fg=\"light green\").grid(row=4,column=0,padx=10,pady=10,sticky=\"w\")\n",
    "        c5_txt=Entry(F4,width=10,textvariable=self.limca,font=(\"times new roman\",16,\"bold\"),bd=5,relief=SUNKEN).grid(row=4,column=1,padx=10,pady=10)\n",
    "\n",
    "        c6_libl=Label(F4,text='sprite',font=(\"times new roman\",16,\"bold\"),bg=bg_color,fg=\"light green\").grid(row=5,column=0,padx=10,pady=10,sticky=\"w\")\n",
    "        c6_txt=Entry(F4,width=10,textvariable=self.sprite,font=(\"times new roman\",16,\"bold\"),bd=5,relief=SUNKEN).grid(row=5,column=1,padx=10,pady=10)\n",
    "\n",
    "        #===========Bill Area==========\n",
    "        F5=Frame(self.root,bd=10,relief=GROOVE)\n",
    "        F5.place(x=1010,y=180,width=450,height=400)\n",
    "        bill_title=Label(F5,text=\"Bill Area\",font=\"arial 15 bold\",bd=7,relief=GROOVE).pack(fill=X)\n",
    "        scrol_y=Scrollbar(F5,orient=VERTICAL)\n",
    "        self.txtarea=Text(F5,yscrollcommand=scrol_y.set)\n",
    "        scrol_y.pack(side=RIGHT,fill=Y)\n",
    "        scrol_y.config(command=self.txtarea.yview)\n",
    "        self.txtarea.pack(fill=BOTH,expand=1)\n",
    "\n",
    "        #======Button Frame=====\n",
    "        F6=LabelFrame(self.root,bd=10,relief=GROOVE,text=\"Billing menu\",font=(\"times new roman\",15,\"bold\"),fg=\"gold\",bg=bg_color)\n",
    "        F6.place(x=0,y=590,relwidth=1,height=200)\n",
    "\n",
    "        m1=Label(F6,text=\"Total Cosmetic Price\",bg=bg_color,fg=\"White\",font=(\"times new roman\",14,\"bold\")).grid(row=0,column=0,padx=20,pady=1,sticky=\"w\")\n",
    "        m1_txt=Entry(F6,width=18,textvariable=self.cosmetics_price,font=\"arial 10 bold\",bd=7,relief=SUNKEN).grid(row=0,column=1,padx=10,pady=10)\n",
    "\n",
    "        m2=Label(F6,text=\"Total Groceries Price\",bg=bg_color,fg=\"White\",font=(\"times new roman\",14,\"bold\")).grid(row=1,column=0,padx=20,pady=1,sticky=\"w\")\n",
    "        m2_txt=Entry(F6,width=18,textvariable=self.grocery_price,font=\"arial 10 bold\",bd=7,relief=SUNKEN).grid(row=1,column=1,padx=10,pady=10)\n",
    "\n",
    "        m3=Label(F6,text=\"Total Cold drink Price\",bg=bg_color,fg=\"White\",font=(\"times new roman\",14,\"bold\")).grid(row=2,column=0,padx=20,pady=1,sticky=\"w\")\n",
    "        m3_txt=Entry(F6,width=18,textvariable=self.cold_drink_price,font=\"arial 10 bold\",bd=7,relief=SUNKEN).grid(row=2,column=1,padx=10,pady=10)\n",
    "\n",
    "        c1=Label(F6,text=\" Cosmetic Tax\",bg=bg_color,fg=\"White\",font=(\"times new roman\",14,\"bold\")).grid(row=0,column=2,padx=20,pady=1,sticky=\"w\")\n",
    "        c1_txt=Entry(F6,width=18,textvariable=self.cosmetics_tax,font=\"arial 10 bold\",bd=7,relief=SUNKEN).grid(row=0,column=3,padx=10,pady=10)\n",
    "\n",
    "        c2=Label(F6,text=\" Groceries Tax\",bg=bg_color,fg=\"White\",font=(\"times new roman\",14,\"bold\")).grid(row=1,column=2,padx=20,pady=1,sticky=\"w\")\n",
    "        c2_txt=Entry(F6,width=18,textvariable=self.grocery_tax,font=\"arial 10 bold\",bd=7,relief=SUNKEN).grid(row=1,column=3,padx=10,pady=10)\n",
    "\n",
    "        c3=Label(F6,text=\" Cold drink Tax\",bg=bg_color,fg=\"White\",font=(\"times new roman\",14,\"bold\")).grid(row=2,column=2,padx=20,pady=1,sticky=\"w\")\n",
    "        c3_txt=Entry(F6,width=18,textvariable=self.cold_drink_tax,font=\"arial 10 bold\",bd=7,relief=SUNKEN).grid(row=2,column=3,padx=10,pady=10)\n",
    "\n",
    "        btn_F=Frame(F6,bd=7,relief=GROOVE)\n",
    "        btn_F.place(x=650,width=680,height=150)\n",
    "\n",
    "        total_btn=Button(btn_F,command=self.total,text=\"Total\",bg=bg_color,bd=5,fg=\"black\",pady=15,width=11,font=\"arial 15 bold\").grid(row=0,column=0,padx=5,pady=7)\n",
    "        gbill_btn=Button(btn_F,text=\"Generate bill\",command=self.bill_area,bg=bg_color,bd=5,fg=\"black\",pady=15,width=11,font=\"arial 15 bold\").grid(row=0,column=1,padx=5,pady=7)\n",
    "        clear_btn=Button(btn_F,text=\"Clear\",command=self.clear_data,bg=bg_color,bd=5,fg=\"black\",pady=15,width=11,font=\"arial 15 bold\").grid(row=0,column=2,padx=5,pady=7)\n",
    "        exit_btn=Button(btn_F,text=\"Exit\",command=self.Exit_app,bg=bg_color,bd=5,fg=\"black\",pady=15,width=11,font=\"arial 15 bold\").grid(row=0,column=3,padx=5,pady=7)\n",
    "        self.welcome_bill()\n",
    "    def total(self):\n",
    "\n",
    "        self.c_s_p=self.soap.get()*40\n",
    "        self.c_fc_p=self.face_cream.get()*120\n",
    "        self.c_fw_p=self.face_wash.get()*60\n",
    "        self.c_hs_p=self.spray.get()*180\n",
    "        self.c_hg_p=self.gel.get()*140\n",
    "        self.c_bl_p=self.lotion.get()*180\n",
    "\n",
    "        self.total_cosmetics_price=float(\n",
    "                                      self.c_s_p+\n",
    "                                      self.c_fc_p+\n",
    "                                      self.c_fw_p+\n",
    "                                      self.c_hs_p+\n",
    "                                      self.c_hg_p+\n",
    "                                      self.c_bl_p\n",
    "                                    )\n",
    "        self.cosmetics_price.set(\"Rs. \"+str(self.total_cosmetics_price))\n",
    "        self.c_tax=round((self.total_cosmetics_price*0.05),2)\n",
    "        self.cosmetics_tax.set(\"Rs. \"+str(self.c_tax))\n",
    "\n",
    "        self.g_r_p=self.rice.get()*60\n",
    "        self.g_f_p=self.food_oil.get()*150\n",
    "        self.g_d_p=self.pulse.get()*110\n",
    "        self.g_w_p=self.wheat.get()*40\n",
    "        self.g_s_p=self.sugar.get()*51\n",
    "        self.g_t_p=self.tea.get()*400\n",
    "\n",
    "        self.total_grocery_price=float(\n",
    "                                     self.g_r_p+\n",
    "                                     self.g_f_p+\n",
    "                                     self.g_d_p+\n",
    "                                     self.g_w_p+\n",
    "                                     self.g_s_p+\n",
    "                                     self.g_t_p\n",
    "                                    )\n",
    "        self.grocery_price.set(\"Rs. \"+str(self.total_grocery_price))\n",
    "        self.g_tax=round((self.total_grocery_price*0.1),2)\n",
    "        self.grocery_tax.set(\"Rs. \"+str(self.g_tax))\n",
    "\n",
    "        self.d_m_p=self.maaza.get()*60\n",
    "        self.d_c_p=self.coke.get()*60\n",
    "        self.d_f_p=self.frooti.get()*50\n",
    "        self.d_t_p=self.thumbsup.get()*45\n",
    "        self.d_l_p=self.limca.get()*40\n",
    "        self.d_s_p=self.sprite.get()*70\n",
    "        self.total_drinks_price=float(\n",
    "                                      self.d_m_p+\n",
    "                                      self.d_c_p+\n",
    "                                      self.d_f_p+\n",
    "                                      self.d_t_p+\n",
    "                                      self.d_l_p+\n",
    "                                      self.d_s_p\n",
    "                                    )\n",
    "        self.cold_drink_price.set(\"Rs. \"+str(self.total_drinks_price))\n",
    "        self.d_tax=round((self.total_drinks_price*0.05),2)\n",
    "        self.cold_drink_tax.set(\"Rs. \"+str(self.d_tax))\n",
    "\n",
    "        self.Total_bill=float(self.total_cosmetics_price+self.total_grocery_price+self.total_drinks_price+self.c_tax+self.g_tax+self.d_tax)\n",
    "\n",
    "    def welcome_bill(self):\n",
    "        self.txtarea.delete(\"1.0\",END)\n",
    "        self.txtarea.insert(END,\"\\tWelcome to store\\n\")\n",
    "        self.txtarea.insert(END,f\"\\n Bill Number : {self.bill_no.get()}\")\n",
    "        self.txtarea.insert(END,f\"\\n Customer Name: {self.c_name.get()}\")       \n",
    "        self.txtarea.insert(END,f\"\\n Phone Number: {self.c_phon.get()}\" )\n",
    "        self.txtarea.insert(END,f\"\\n-----------------------------------------------\\n\" )\n",
    "        self.txtarea.insert(END,f\"\\tProducts\\t\\tQTY\\t\\tprice\" )\n",
    "        self.txtarea.insert(END,f\"\\n-----------------------------------------------\" )\n",
    "\n",
    "    def bill_area(self):\n",
    "        \n",
    "        self.welcome_bill()\n",
    "        #====cosmetics========\n",
    "        if self.soap.get()!=0:\n",
    "            self.txtarea.insert(END,f\"\\n Bath Soap\\t\\t\\t{self.soap.get()}\\t\\t{self.c_s_p}\")\n",
    "        if self.face_cream.get()!=0:\n",
    "            self.txtarea.insert(END,f\"\\n Face Cream\\t\\t\\t{self.face_cream.get()}\\t\\t{self.c_fc_p}\")\n",
    "        if self.face_wash.get()!=0:\n",
    "            self.txtarea.insert(END,f\"\\n Face Wash\\t\\t\\t{self.soap.get()}\\t\\t{self.c_fw_p}\")\n",
    "        if self.spray.get()!=0:\n",
    "            self.txtarea.insert(END,f\"\\n Hair Spray\\t\\t\\t{self.spray.get()}\\t\\t{self.c_hs_p}\")\n",
    "        if self.gel.get()!=0:\n",
    "            self.txtarea.insert(END,f\"\\n Hair Gel\\t\\t\\t{self.soap.get()}\\t\\t{self.c_hg_p}\")\n",
    "        if self.lotion.get()!=0:\n",
    "            self.txtarea.insert(END,f\"\\n Body Lotion\\t\\t\\t{self.soap.get()}\\t\\t{self.c_bl_p}\")\n",
    "        \n",
    "        #====grocery========\n",
    "        if self.rice.get()!=0:\n",
    "            self.txtarea.insert(END,f\"\\n Rice\\t\\t\\t{self.rice.get()}\\t\\t{self.g_r_p}\")\n",
    "        if self.food_oil.get()!=0:\n",
    "            self.txtarea.insert(END,f\"\\n Food oil\\t\\t\\t{self.food_oil.get()}\\t\\t{self.g_f_p}\")\n",
    "        if self.pulse.get()!=0:\n",
    "            self.txtarea.insert(END,f\"\\n Pulse\\t\\t\\t{self.pulse.get()}\\t\\t{self.g_d_p}\")\n",
    "        if self.wheat.get()!=0:\n",
    "            self.txtarea.insert(END,f\"\\n Wheat\\t\\t\\t{self.wheat.get()}\\t\\t{self.g_w_p}\")\n",
    "        if self.sugar.get()!=0:\n",
    "            self.txtarea.insert(END,f\"\\n Sugar\\t\\t\\t{self.sugar.get()}\\t\\t{self.g_s_p}\")\n",
    "        if self.tea.get()!=0:\n",
    "            self.txtarea.insert(END,f\"\\n Tea\\t\\t\\t{self.tea.get()}\\t\\t{self.g_t_p}\")\n",
    "        \n",
    "        #====col drinks========\n",
    "        if self.maaza.get()!=0:\n",
    "            self.txtarea.insert(END,f\"\\n Maaza\\t\\t\\t{self.maaza.get()}\\t\\t{self.d_m_p}\")\n",
    "        if self.coke.get()!=0:\n",
    "            self.txtarea.insert(END,f\"\\n Coke\\t\\t\\t{self.coke.get()}\\t\\t{self.d_c_p}\")\n",
    "        if self.frooti.get()!=0:\n",
    "            self.txtarea.insert(END,f\"\\n Frooti\\t\\t\\t{self.frooti.get()}\\t\\t{self.d_f_p}\")\n",
    "        if self.thumbsup.get()!=0:\n",
    "            self.txtarea.insert(END,f\"\\n Thumbs up\\t\\t\\t{self.thumbsup.get()}\\t\\t{self.d_t_p}\")\n",
    "        if self.limca.get()!=0:\n",
    "            self.txtarea.insert(END,f\"\\n Limca\\t\\t\\t{self.limca.get()}\\t\\t{self.d_l_p}\")\n",
    "        if self.sprite.get()!=0:\n",
    "            self.txtarea.insert(END,f\"\\n sprite\\t\\t\\t{self.sprite.get()}\\t\\t{self.d_s_p}\")\n",
    "        \n",
    "        self.txtarea.insert(END,f\"\\n===============================================\\n\" )\n",
    "        if self.cosmetics_tax.get()!=\"Rs .0.0\":\n",
    "            self.txtarea.insert(END,f\"\\nCosmetic Tax\\t\\t\\t{self.cosmetics_tax.get()}\" )\n",
    "        if self.grocery_tax.get()!=\"Rs .0.0\":\n",
    "            self.txtarea.insert(END,f\"\\nGrocery Tax\\t\\t\\t{self.grocery_tax.get()}\" )\n",
    "        if self.cold_drink_tax.get()!=\"Rs .0.0\":\n",
    "            self.txtarea.insert(END,f\"\\nCold drink Tax\\t\\t\\t{self.cold_drink_tax.get()}\" )\n",
    "        \n",
    "        self.txtarea.insert(END,f\"\\nTotal Bill:\\t\\t\\tRs. {str(self.Total_bill)}\" )\n",
    "\n",
    "        self.txtarea.insert(END,f\"\\n===============================================\" )\n",
    "        self.save_bill()\n",
    "\n",
    "    def save_bill(self):\n",
    "        op=messagebox.askyesno(\"Save Bill\",\"Do yo want to save the bill\")\n",
    "        if op>0:\n",
    "            self.bill_data=self.txtarea.get(\"1.0\",END)\n",
    "            f1=open(\"bills/\"+str(self.bill_no.get())+\".txt\",\"w\")\n",
    "            f1.write(self.bill_data)\n",
    "            f1.close()\n",
    "            messagebox.showinfo(\"Saved\",f\"Bill no. :{self.bill_no.get()}saved succesfully\")\n",
    "        else:\n",
    "            return\n",
    "    def find_bill(self):\n",
    "        present=\"no\"\n",
    "\n",
    "        for i in os.listdir(\"bills/\"):\n",
    "            if i.split('.')[0]==self.search_bill.get():\n",
    "                f1=open(f\"bills/{i}\",\"r\")\n",
    "                self.txtarea.delete(\"1.0\",END)\n",
    "                for d in f1:\n",
    "                    self.txtarea.insert(END,d)\n",
    "                f1.close()\n",
    "                presenet=\"yes\"\n",
    "        \n",
    "    \n",
    "    def clear_data(self):\n",
    "        \n",
    "        self.soap.set(0)\n",
    "        self.face_cream.set(0)\n",
    "        self.face_wash.set(0)\n",
    "        self.spray.set(0)\n",
    "        self.gel.set(0)\n",
    "        self.lotion.set(0)\n",
    "        #===========grocery==========\n",
    "        self.rice.set(0)\n",
    "        self.food_oil.set(0)\n",
    "        self.pulse.set(0)\n",
    "        self.wheat.set(0)\n",
    "        self.sugar.set(0)\n",
    "        self.tea.set(0)\n",
    "        #===========cold drink=========\n",
    "        self.maaza.set(0)\n",
    "        self.coke.set(0)\n",
    "        self.frooti.set(0)\n",
    "        self.thumbsup.set(0)\n",
    "        self.limca.set(0)\n",
    "        self.sprite.set(0)\n",
    "\n",
    "        #======Total product Price & Tax Variable====\n",
    "        self.cosmetics_price.set(\"\")\n",
    "        self.grocery_price.set(\"\")\n",
    "        self.cold_drink_price.set(\"\")\n",
    "\n",
    "        self.cosmetics_tax.set(\"\")\n",
    "        self.grocery_tax.set(\"\")\n",
    "        self.cold_drink_tax.set(\"\")\n",
    "\n",
    "        #===========Customer=======\n",
    "        self.c_name.set(\"\")\n",
    "        self.c_phon.set(\"\")\n",
    "        self.bill_no.set(\"\")\n",
    "        x=random.randint(1000,9999)\n",
    "        self.bill_no.set(str(x))\n",
    "        self.search_bill.set(\"\")\n",
    "        self.welcome_bill()\n",
    "\n",
    "    def Exit_app(self):\n",
    "        op=messagebox.askyno(\"Exit\",\"Do you want to exit\")\n",
    "        if op>0:\n",
    "            self.root.destroy()\n",
    "\n",
    "\n",
    "        \n",
    "root=Tk()\n",
    "obj=Bill_App(root)\n",
    "root.mainloop()\n",
    "\n",
    "  "
   ]
  }
 ],
 "metadata": {
  "kernelspec": {
   "display_name": "Python 3",
   "language": "python",
   "name": "python3"
  },
  "language_info": {
   "codemirror_mode": {
    "name": "ipython",
    "version": 3
   },
   "file_extension": ".py",
   "mimetype": "text/x-python",
   "name": "python",
   "nbconvert_exporter": "python",
   "pygments_lexer": "ipython3",
   "version": "3.10.8"
  },
  "orig_nbformat": 4
 },
 "nbformat": 4,
 "nbformat_minor": 2
}
